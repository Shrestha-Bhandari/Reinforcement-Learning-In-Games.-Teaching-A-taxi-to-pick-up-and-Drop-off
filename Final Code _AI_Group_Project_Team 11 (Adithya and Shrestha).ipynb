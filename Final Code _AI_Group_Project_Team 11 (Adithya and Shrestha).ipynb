{
  "cells": [
    {
      "cell_type": "markdown",
      "metadata": {
        "id": "view-in-github"
      },
      "source": [
        "<a href=\"https://colab.research.google.com/github/BrutFab/Taxi-v3/blob/main/Taxi_v3.ipynb\" target=\"_parent\"><img src=\"https://colab.research.google.com/assets/colab-badge.svg\" alt=\"Open In Colab\"/></a>"
      ]
    },
    {
      "cell_type": "markdown",
      "metadata": {
        "id": "z-JwgbES0d9N"
      },
      "source": [
        "**Reinforcement Learning In Game.Teach a Taxi to pick up and drop**\n"
      ]
    },
    {
      "cell_type": "markdown",
      "metadata": {
        "id": "xBFULXrP160u"
      },
      "source": [
        "Project By Shrestha Bhandari and Adithya Sai Reddy Tamatam.\n",
        "\n"
      ]
    },
    {
      "cell_type": "markdown",
      "metadata": {
        "id": "f3sfZeIMvFvz"
      },
      "source": [
        "**Instructions to Use below project.**\n",
        "\n",
        "1) Use this file with Google Colab, as there are few libraries which are compatible with different environment (for example \"!sudo apt-get update\" might not be compatible with windows and jupyter notebook\""
      ]
    },
    {
      "cell_type": "markdown",
      "metadata": {
        "id": "fT-Qf-cgp8bh"
      },
      "source": [
        "### **Install libraries**"
      ]
    },
    {
      "cell_type": "code",
      "execution_count": null,
      "metadata": {
        "id": "l6HJwhmRfiUF",
        "colab": {
          "base_uri": "https://localhost:8080/"
        },
        "outputId": "d57c702d-07cf-41e8-adb2-c2de05e06a80"
      },
      "outputs": [
        {
          "output_type": "stream",
          "name": "stdout",
          "text": [
            "Requirement already satisfied: gymnasium in /usr/local/lib/python3.10/dist-packages (0.29.1)\n",
            "Requirement already satisfied: pygame in /usr/local/lib/python3.10/dist-packages (2.5.2)\n",
            "Requirement already satisfied: numpy in /usr/local/lib/python3.10/dist-packages (1.23.5)\n",
            "Requirement already satisfied: pickle5 in /usr/local/lib/python3.10/dist-packages (0.0.11)\n",
            "Requirement already satisfied: pyyaml==6.0 in /usr/local/lib/python3.10/dist-packages (6.0)\n",
            "Requirement already satisfied: imageio in /usr/local/lib/python3.10/dist-packages (2.31.6)\n",
            "Requirement already satisfied: imageio_ffmpeg in /usr/local/lib/python3.10/dist-packages (0.4.9)\n",
            "Requirement already satisfied: pyglet==1.5.1 in /usr/local/lib/python3.10/dist-packages (1.5.1)\n",
            "Requirement already satisfied: tqdm in /usr/local/lib/python3.10/dist-packages (4.66.1)\n",
            "Requirement already satisfied: cloudpickle>=1.2.0 in /usr/local/lib/python3.10/dist-packages (from gymnasium) (2.2.1)\n",
            "Requirement already satisfied: typing-extensions>=4.3.0 in /usr/local/lib/python3.10/dist-packages (from gymnasium) (4.5.0)\n",
            "Requirement already satisfied: farama-notifications>=0.0.1 in /usr/local/lib/python3.10/dist-packages (from gymnasium) (0.0.4)\n",
            "Requirement already satisfied: pillow<10.1.0,>=8.3.2 in /usr/local/lib/python3.10/dist-packages (from imageio) (9.4.0)\n",
            "Requirement already satisfied: setuptools in /usr/local/lib/python3.10/dist-packages (from imageio_ffmpeg) (67.7.2)\n"
          ]
        }
      ],
      "source": [
        "!pip install gymnasium pygame numpy pickle5 pyyaml==6.0 imageio imageio_ffmpeg pyglet==1.5.1 tqdm"
      ]
    },
    {
      "cell_type": "code",
      "execution_count": null,
      "metadata": {
        "id": "KUvL8LPEgIYf",
        "colab": {
          "base_uri": "https://localhost:8080/"
        },
        "outputId": "737153d5-1eb8-4ba2-dbc5-ebf5607120b1"
      },
      "outputs": [
        {
          "output_type": "stream",
          "name": "stdout",
          "text": [
            "\r0% [Working]\r            \rHit:1 https://cloud.r-project.org/bin/linux/ubuntu jammy-cran40/ InRelease\n",
            "\r0% [Connecting to archive.ubuntu.com (185.125.190.39)] [Waiting for headers] [C\r                                                                               \rHit:2 https://developer.download.nvidia.com/compute/cuda/repos/ubuntu2204/x86_64  InRelease\n",
            "\r0% [Waiting for headers] [Waiting for headers] [Connected to ppa.launchpadconte\r                                                                               \rGet:3 http://security.ubuntu.com/ubuntu jammy-security InRelease [110 kB]\n",
            "Hit:4 http://archive.ubuntu.com/ubuntu jammy InRelease\n",
            "Get:5 http://archive.ubuntu.com/ubuntu jammy-updates InRelease [119 kB]\n",
            "Hit:6 https://ppa.launchpadcontent.net/c2d4u.team/c2d4u4.0+/ubuntu jammy InRelease\n",
            "Hit:7 https://ppa.launchpadcontent.net/deadsnakes/ppa/ubuntu jammy InRelease\n",
            "Hit:8 https://ppa.launchpadcontent.net/graphics-drivers/ppa/ubuntu jammy InRelease\n",
            "Hit:9 http://archive.ubuntu.com/ubuntu jammy-backports InRelease\n",
            "Hit:10 https://ppa.launchpadcontent.net/ubuntugis/ppa/ubuntu jammy InRelease\n",
            "Get:11 http://archive.ubuntu.com/ubuntu jammy-updates/universe amd64 Packages [1,294 kB]\n",
            "Get:12 http://archive.ubuntu.com/ubuntu jammy-updates/main amd64 Packages [1,535 kB]\n",
            "Fetched 3,057 kB in 3s (1,211 kB/s)\n",
            "Reading package lists... Done\n",
            "Reading package lists... Done\n",
            "Building dependency tree... Done\n",
            "Reading state information... Done\n",
            "python3-opengl is already the newest version (3.1.5+dfsg-1).\n",
            "0 upgraded, 0 newly installed, 0 to remove and 17 not upgraded.\n",
            "Reading package lists... Done\n",
            "Building dependency tree... Done\n",
            "Reading state information... Done\n",
            "ffmpeg is already the newest version (7:4.4.2-0ubuntu0.22.04.1).\n",
            "xvfb is already the newest version (2:21.1.4-2ubuntu1.7~22.04.2).\n",
            "0 upgraded, 0 newly installed, 0 to remove and 17 not upgraded.\n",
            "Requirement already satisfied: pyvirtualdisplay in /usr/local/lib/python3.10/dist-packages (3.0)\n"
          ]
        }
      ],
      "source": [
        "!sudo apt-get update\n",
        "!sudo apt-get install -y python3-opengl\n",
        "!apt install ffmpeg xvfb\n",
        "!pip3 install pyvirtualdisplay"
      ]
    },
    {
      "cell_type": "code",
      "execution_count": null,
      "metadata": {
        "id": "YyZAFNYMgMIn"
      },
      "outputs": [],
      "source": [
        "import os\n",
        "os.kill(os.getpid(), 10)"
      ]
    },
    {
      "cell_type": "markdown",
      "metadata": {
        "id": "-MhUBRrTrkY6"
      },
      "source": [
        "### **Importing libraries**"
      ]
    },
    {
      "cell_type": "code",
      "execution_count": null,
      "metadata": {
        "id": "LKKgmPnvgSE3"
      },
      "outputs": [],
      "source": [
        "import numpy as np\n",
        "import gymnasium as gym\n",
        "import random\n",
        "import imageio\n",
        "import os\n",
        "import tqdm\n",
        "\n",
        "import pickle5 as pickle\n",
        "from tqdm.notebook import tqdm"
      ]
    },
    {
      "cell_type": "markdown",
      "metadata": {
        "id": "j2jJh0TDrq8O"
      },
      "source": [
        "### **Evironment Display**\n",
        "\n",
        "\n",
        "\n"
      ]
    },
    {
      "cell_type": "code",
      "execution_count": null,
      "metadata": {
        "colab": {
          "base_uri": "https://localhost:8080/"
        },
        "id": "KC5KNJoRAplf",
        "outputId": "738b1f6f-8d05-48ac-cc28-5073f5d929c5"
      },
      "outputs": [
        {
          "output_type": "execute_result",
          "data": {
            "text/plain": [
              "<pyvirtualdisplay.display.Display at 0x7bc020a5fe50>"
            ]
          },
          "metadata": {},
          "execution_count": 2
        }
      ],
      "source": [
        "from pyvirtualdisplay import Display\n",
        "\n",
        "\n",
        "virtual_display = Display(visible=0, size=(3840, 2160))\n",
        "virtual_display.start()\n",
        "\n"
      ]
    },
    {
      "cell_type": "markdown",
      "metadata": {
        "id": "tpzwO56zr1Qm"
      },
      "source": [
        "### **Initialize Environment**"
      ]
    },
    {
      "cell_type": "code",
      "execution_count": null,
      "metadata": {
        "colab": {
          "base_uri": "https://localhost:8080/"
        },
        "id": "nlZSw6nfsDzB",
        "outputId": "3ea0ea42-5d3f-4810-fffb-29ad4ca8b181"
      },
      "outputs": [
        {
          "output_type": "execute_result",
          "data": {
            "text/plain": [
              "<TimeLimit<OrderEnforcing<PassiveEnvChecker<TaxiEnv<Taxi-v3>>>>>"
            ]
          },
          "metadata": {},
          "execution_count": 3
        }
      ],
      "source": [
        "env = gym.make(\"Taxi-v3\", render_mode=\"rgb_array\")\n",
        "env"
      ]
    },
    {
      "cell_type": "code",
      "execution_count": null,
      "metadata": {
        "colab": {
          "base_uri": "https://localhost:8080/"
        },
        "id": "kspqRepDsWg5",
        "outputId": "a817d32a-6486-487f-fbf5-2e54b688e831"
      },
      "outputs": [
        {
          "output_type": "stream",
          "name": "stdout",
          "text": [
            "There are  500  possible states\n"
          ]
        }
      ],
      "source": [
        "state_space = env.observation_space.n\n",
        "print(\"There are \", state_space, \" possible states\")"
      ]
    },
    {
      "cell_type": "code",
      "execution_count": null,
      "metadata": {
        "colab": {
          "base_uri": "https://localhost:8080/"
        },
        "id": "nRkcah-LsZKR",
        "outputId": "6e0b129f-d7ce-47db-9592-984460d3c037"
      },
      "outputs": [
        {
          "output_type": "stream",
          "name": "stdout",
          "text": [
            "There are  6  possible actions\n"
          ]
        }
      ],
      "source": [
        "action_space = env.action_space.n\n",
        "print(\"There are \", action_space, \" possible actions\")"
      ]
    },
    {
      "cell_type": "markdown",
      "metadata": {
        "id": "RdqyIXNisfyw"
      },
      "source": [
        "**Initialize Q Table**"
      ]
    },
    {
      "cell_type": "code",
      "execution_count": null,
      "metadata": {
        "id": "awJ5tWGdsrqy"
      },
      "outputs": [],
      "source": [
        "def initialize_q_table(state_space, action_space):\n",
        "  Qtable = np.zeros((state_space, action_space))\n",
        "  return Qtable"
      ]
    },
    {
      "cell_type": "code",
      "execution_count": null,
      "metadata": {
        "id": "YOEED0tmsss6",
        "colab": {
          "base_uri": "https://localhost:8080/"
        },
        "outputId": "7b2230fd-565e-4793-bf83-3d7c55ed9ee6"
      },
      "outputs": [
        {
          "output_type": "stream",
          "name": "stdout",
          "text": [
            "[[0. 0. 0. 0. 0. 0.]\n",
            " [0. 0. 0. 0. 0. 0.]\n",
            " [0. 0. 0. 0. 0. 0.]\n",
            " ...\n",
            " [0. 0. 0. 0. 0. 0.]\n",
            " [0. 0. 0. 0. 0. 0.]\n",
            " [0. 0. 0. 0. 0. 0.]]\n",
            "Q-table shape:  (500, 6)\n"
          ]
        }
      ],
      "source": [
        "Qtable_taxi = initialize_q_table(state_space, action_space)\n",
        "print(Qtable_taxi)\n",
        "print(\"Q-table shape: \", Qtable_taxi.shape)"
      ]
    },
    {
      "cell_type": "markdown",
      "metadata": {
        "id": "xUvpb4hsUTnh"
      },
      "source": [
        "Define Policies for training"
      ]
    },
    {
      "cell_type": "markdown",
      "metadata": {
        "id": "d1SQ_-uutLQS"
      },
      "source": [
        "### **greedy policy**"
      ]
    },
    {
      "cell_type": "code",
      "execution_count": null,
      "metadata": {
        "id": "zboDmn3KI165"
      },
      "outputs": [],
      "source": [
        "def greedy_policy(Qtable, state):\n",
        "    if isinstance(state, tuple):\n",
        "        state = env.s\n",
        "    action = np.argmax(Qtable[state][:])\n",
        "    return action\n"
      ]
    },
    {
      "cell_type": "markdown",
      "metadata": {
        "id": "KnYUVOGdtO3z"
      },
      "source": [
        "### **epsilon greedy policy**"
      ]
    },
    {
      "cell_type": "code",
      "execution_count": null,
      "metadata": {
        "id": "uw5aQMgZtGcD"
      },
      "outputs": [],
      "source": [
        "def epsilon_greedy_policy(Qtable, state, epsilon):\n",
        "  # Randomly generate a number between 0 and 1\n",
        "  random_num = random.uniform(0,1)\n",
        "  # if random_num > greater than epsilon --> exploitation\n",
        "  if random_num > epsilon:\n",
        "    # Take the action with the highest value given a state\n",
        "    action = greedy_policy(Qtable, state)\n",
        "  # else --> exploration\n",
        "  else:\n",
        "    action = env.action_space.sample()\n",
        "\n",
        "  return action"
      ]
    },
    {
      "cell_type": "markdown",
      "metadata": {
        "id": "sIzKDf5MtTVj"
      },
      "source": [
        "**Hypermeters Pre-defined**"
      ]
    },
    {
      "cell_type": "code",
      "execution_count": null,
      "metadata": {
        "id": "Rt3XAiHzg7sL"
      },
      "outputs": [],
      "source": [
        "\n",
        "n_training_episodes = 1500   # Total training episodes\n",
        "learning_rate = 0.7          # Learning rate\n",
        "\n",
        "\n",
        "n_eval_episodes = 99        # Total number of test episodes\n",
        "\n",
        "# DO NOT MODIFY EVAL_SEED\n",
        "eval_seed = [16, 54, 165, 177, 191, 191, 120, 80, 149, 178, 48, 38, 6, 125, 174, 73, 50, 172, 100, 148, 146, 6, 25, 40, 68, 148, 49, 167, 9, 97, 164, 176, 61, 7, 54, 55,\n",
        "             161, 131, 184, 51, 170, 12, 120, 113, 95, 126, 51, 98, 36, 135, 54, 82, 45, 95, 89, 59, 95, 124, 9, 113, 58, 85, 51, 134, 121, 169, 105, 21, 30, 11, 50, 65, 12, 43, 82, 145, 152, 97, 106, 55, 31, 85, 38,\n",
        "             112, 102, 168, 123, 97, 21, 83, 158, 26, 80, 63, 5, 81, 32, 11, 28, 148]\n",
        "\n",
        "\n",
        "env_id = \"Taxi-v3\"           # Name of the environment\n",
        "max_steps = 100             # Max steps per episode\n",
        "gamma = 0.95                 # Discounting rate\n",
        "\n",
        "\n",
        "max_epsilon = 1.0            # Exploration probability at start\n",
        "min_epsilon = 0.05           # Minimum exploration probability\n",
        "decay_rate = 0.005           # Exponential decay rate for exploration prob\n"
      ]
    },
    {
      "cell_type": "markdown",
      "metadata": {
        "id": "1vgHzdJtsJ7a"
      },
      "source": [
        "**Evalution Agent Before Performing Q-learnig**"
      ]
    },
    {
      "cell_type": "code",
      "execution_count": null,
      "metadata": {
        "id": "DbT1WEDmsFTQ",
        "colab": {
          "base_uri": "https://localhost:8080/"
        },
        "outputId": "f67cad78-3060-4e4c-b009-b886c2d51038"
      },
      "outputs": [
        {
          "output_type": "stream",
          "name": "stdout",
          "text": [
            "Mean reward before Q-learning: -390.57\n"
          ]
        }
      ],
      "source": [
        "def evaluate_random_agent(env, max_steps, n_eval_episodes):\n",
        "    \"\"\"\n",
        "    Evaluate a random agent (without Q-learning) for `n_eval_episodes` episodes and return the average reward.\n",
        "\n",
        "    :param env: The evaluation environment\n",
        "    :param max_steps: Maximum number of steps per episode\n",
        "    :param n_eval_episodes: Number of episodes to evaluate the random agent\n",
        "    \"\"\"\n",
        "    episode_rewards = []\n",
        "    for episode in range(n_eval_episodes):\n",
        "        state = env.reset()\n",
        "        total_reward = 0\n",
        "        for step in range(max_steps):\n",
        "            action = env.action_space.sample()  # Choose a random action\n",
        "            result = env.step(action)  # Obtain the result from the step\n",
        "            if isinstance(result, tuple) and len(result) >= 3:  # Check if the result is a tuple with at least 3 elements\n",
        "                next_state, reward, done = result[:3]  # Extract relevant values\n",
        "                total_reward += reward\n",
        "                if done:\n",
        "                    break\n",
        "        episode_rewards.append(total_reward)\n",
        "    mean_reward = np.mean(episode_rewards)\n",
        "    return mean_reward\n",
        "\n",
        "# Evaluate the environment with a random agent\n",
        "n_eval_episodes_baseline = 100  # Number of episodes for baseline evaluation\n",
        "mean_reward_baseline = evaluate_random_agent(env, max_steps, n_eval_episodes_baseline)\n",
        "print(f\"Mean reward before Q-learning: {mean_reward_baseline:.2f}\")\n"
      ]
    },
    {
      "cell_type": "markdown",
      "metadata": {
        "id": "FbhjOTt7EmkW"
      },
      "source": [
        "**Trainig Function With Q-learning**"
      ]
    },
    {
      "cell_type": "code",
      "execution_count": null,
      "metadata": {
        "id": "feiVUDO4tg0u"
      },
      "outputs": [],
      "source": [
        "def train(n_training_episodes, min_epsilon, max_epsilon, decay_rate, env, max_steps, Qtable):\n",
        "    for episode in tqdm(range(n_training_episodes)):\n",
        "        # Reduce epsilon (exploration probability) over episodes\n",
        "        epsilon = min_epsilon + (max_epsilon - min_epsilon) * np.exp(-decay_rate * episode)\n",
        "\n",
        "        # Reset the environment\n",
        "        state, info = env.reset()\n",
        "        terminated = False\n",
        "        truncated = False\n",
        "\n",
        "        for step in range(max_steps):\n",
        "            # Choose action using epsilon-greedy policy\n",
        "            action = epsilon_greedy_policy(Qtable, state, epsilon)\n",
        "\n",
        "            # Take action and observe the new state, reward, and episode termination\n",
        "            new_state, reward, terminated, truncated, info = env.step(action)\n",
        "\n",
        "            # Handle different state representations (e.g., for Taxi-v3)\n",
        "            if isinstance(state, tuple):\n",
        "                state = env.s\n",
        "\n",
        "            # Update Q-table using Q-learning algorithm\n",
        "            Qtable[state][action] = Qtable[state][action] + learning_rate * (\n",
        "                        reward + gamma * np.max(Qtable[new_state]) - Qtable[state][action])\n",
        "\n",
        "            # If episode terminated or truncated, end the episode\n",
        "            if terminated or truncated:\n",
        "                break\n",
        "\n",
        "            # Update the current state\n",
        "            state = new_state\n",
        "\n",
        "    return Qtable\n"
      ]
    },
    {
      "cell_type": "code",
      "execution_count": null,
      "metadata": {
        "id": "QAvnIXh0-GcT",
        "colab": {
          "base_uri": "https://localhost:8080/",
          "height": 275,
          "referenced_widgets": [
            "2dea713691bf4ca099eeb387f44dc1fd",
            "b004719ae3b64dc38a6ea7d6be0eb35f",
            "6f52b8153f4f45a6a47cdee2d199540d",
            "f0b9a47792f5497688d52e8372928a57",
            "04755e4f041f443ba49bc2901e984fae",
            "16349ffb360544818a5af5a9fc678866",
            "39459762c54242f7985dd8b093ffed36",
            "51a6d31ad6cc482b9862e998c0abb1cd",
            "d63b4a7c1c2e4627843f0146cf62cd39",
            "d594efeb8a34400db0c3033b8de93280",
            "91bb2ba044994b6db835ec28ddfeff80"
          ]
        },
        "outputId": "c37bc980-b387-4df7-f8e4-0c8cb6c2ea8a"
      },
      "outputs": [
        {
          "output_type": "display_data",
          "data": {
            "text/plain": [
              "  0%|          | 0/1500 [00:00<?, ?it/s]"
            ],
            "application/vnd.jupyter.widget-view+json": {
              "version_major": 2,
              "version_minor": 0,
              "model_id": "2dea713691bf4ca099eeb387f44dc1fd"
            }
          },
          "metadata": {}
        },
        {
          "output_type": "execute_result",
          "data": {
            "text/plain": [
              "array([[  0.        ,   0.        ,   0.        ,   0.        ,\n",
              "          0.        ,   0.        ],\n",
              "       [  2.57762958,   3.58962951,  -0.2469416 ,   3.87292936,\n",
              "          5.20997639, -13.56524766],\n",
              "       [  7.60637408,   5.39809589,   6.70843861,   5.36378161,\n",
              "         10.9512375 , -10.25054048],\n",
              "       ...,\n",
              "       [ -3.41914731,   9.40265435,  -3.22107126,  -2.72523826,\n",
              "        -10.83319755, -10.32275445],\n",
              "       [ -5.04932435,  -5.16667287,  -5.38990196,   5.50850439,\n",
              "        -11.09431067, -14.39754866],\n",
              "       [ -0.7       ,  -0.7       ,  -0.7       ,  17.99986803,\n",
              "          2.46872191,   4.56872191]])"
            ]
          },
          "metadata": {},
          "execution_count": 13
        }
      ],
      "source": [
        "Qtable_taxi = train(n_training_episodes, min_epsilon, max_epsilon, decay_rate, env, max_steps, Qtable_taxi)\n",
        "\n",
        "Qtable_taxi"
      ]
    },
    {
      "cell_type": "markdown",
      "metadata": {
        "id": "Ergjuh_-bWG_"
      },
      "source": [
        "**Evaluation Function for Condition where hyperparamters were pre-defined**"
      ]
    },
    {
      "cell_type": "code",
      "execution_count": null,
      "metadata": {
        "id": "zbNVF0VkbVmi"
      },
      "outputs": [],
      "source": [
        "def evaluate_agent(env, max_steps, n_eval_episodes, Q, seed):\n",
        "\n",
        "  episode_rewards = []\n",
        "  for episode in tqdm(range(n_eval_episodes)):\n",
        "    if seed:\n",
        "      state,info= env.reset(seed=seed[episode])\n",
        "    else:\n",
        "      state, info = env.reset()\n",
        "    step = 0\n",
        "    truncated = False\n",
        "    terminated = False\n",
        "    total_rewards_ep = 0\n",
        "\n",
        "    for step in range(max_steps):\n",
        "      # Take the action (index) that have the maximum expected future reward given that state\n",
        "      action = greedy_policy(Q, state)\n",
        "      new_state, reward, terminated, truncated,info= env.step(action)\n",
        "      total_rewards_ep += reward\n",
        "\n",
        "      if terminated or truncated:\n",
        "        break\n",
        "      state = new_state\n",
        "    episode_rewards.append(total_rewards_ep)\n",
        "  mean_reward = np.mean(episode_rewards)\n",
        "  std_reward = np.std(episode_rewards)\n",
        "\n",
        "  return mean_reward, std_reward"
      ]
    },
    {
      "cell_type": "code",
      "execution_count": null,
      "metadata": {
        "id": "R-OgFbkbbjfd",
        "colab": {
          "base_uri": "https://localhost:8080/",
          "height": 66,
          "referenced_widgets": [
            "f216c2a05d074898a4d09fadc2a73964",
            "d5786b88de35442db108975f7d7c5edc",
            "459ecad4cd1a4f06aab2924591b24a76",
            "36aa905e519c428f8fd5f08e9fa10cc1",
            "9365e7bae4544ba0b35f23b96a4ac30f",
            "7d0ea0a9341e485ab5046814337bb601",
            "4439a3e97a764525934d831f66718338",
            "fec2bd8c7243413f90a37a39f34e27d7",
            "62f43af1b883425faf7c5b987fdf4b3c",
            "edec8cc66c124844bb92437849eb980c",
            "86fe7fc7feb847a3b49c0ac37d6fdbc6"
          ]
        },
        "outputId": "8300cdb0-2f8c-49be-e8ee-eb25d455214c"
      },
      "outputs": [
        {
          "output_type": "display_data",
          "data": {
            "text/plain": [
              "  0%|          | 0/99 [00:00<?, ?it/s]"
            ],
            "application/vnd.jupyter.widget-view+json": {
              "version_major": 2,
              "version_minor": 0,
              "model_id": "f216c2a05d074898a4d09fadc2a73964"
            }
          },
          "metadata": {}
        },
        {
          "output_type": "stream",
          "name": "stdout",
          "text": [
            "Mean_reward=7.39 +/- 2.88\n"
          ]
        }
      ],
      "source": [
        "# Evaluate our Agent\n",
        "mean_reward, std_reward = evaluate_agent(env, max_steps, n_eval_episodes, Qtable_taxi, eval_seed)\n",
        "print(f\"Mean_reward={mean_reward:.2f} +/- {std_reward:.2f}\")"
      ]
    },
    {
      "cell_type": "markdown",
      "metadata": {
        "id": "rAbMaEkt_ORF"
      },
      "source": [
        "**Now we are finding Best Hyperparamters using Search**"
      ]
    },
    {
      "cell_type": "code",
      "execution_count": null,
      "metadata": {
        "colab": {
          "base_uri": "https://localhost:8080/",
          "height": 672,
          "referenced_widgets": [
            "a1f17b512a3d4e1db3a9cf9df205e41e",
            "9c3a13ccce0548eb9ff2474ea805e648",
            "be1e86a6fe864b659160dd50e7ea979a",
            "64591534ed184cb3ae904005355a006d",
            "3701493779814cc482918d13f878265b",
            "75e32baca72c4853a192596d0e08cdc6",
            "915e6a7cc77f40acaab469f8255cb6c2",
            "29ac983b77a042689d5ee3558f03d227",
            "b180d7c152244b678f9573c952a7ce04",
            "0928fcabbdc24537b8680704a79ff706",
            "c48addb0f5394d6eb0da2e571ff31dde",
            "bba895e2374d42f4a8d99ec9bbb4b713",
            "658175808bf14ab6abec9b95b6a3b661",
            "f0c1b19cb9ea4c46a661f5fc8ee956b3",
            "e88e3005f2c544c1ac883013837eba4c",
            "84631f6ad5684876816f668f4f717f3e",
            "62827cb4a8c640d5a83cb1eb6fbd8389",
            "e5a42417e8f146608a15c843ed5dc43f",
            "bba86a5dbe0e4ba38599c96195c098b6",
            "9dbf8e0251494e02851e76270b13f47d",
            "d1953154bb164b15b2cdb894b424d1bb",
            "2dbefdc4a1434e148347c48f0e8a9eb2",
            "f2b08b671ba84cab8fa504e614d726a0",
            "a40ec7eb03a04613a2d986251739a8c7",
            "8ed8ba90632a491ca955670660e6b896",
            "8b350eeab34d4dc08c9bf3741e953892",
            "6623f7d237994a788864281867f61cb7",
            "2c18ee5905514a23ae596d2ac4536c19",
            "04c7178f71f544ef9d9b4ec359bba1c5",
            "d7e9a134eaf742ee9c9f5c94799a9850",
            "c0346e317188426eaba610207b539cc4",
            "b4941083e22e47e58ab31955a6aa0554",
            "9f32be9972784c0bb139c0ced0954d36",
            "8ec4d7f892b7402e9f6ea4c763c9c38b",
            "76abe594d8a341e0a375fe8a70e8fd35",
            "202389f3ad704de18b9c45231c9f468b",
            "985058073cb6425bb7c21a1a797c1dd2",
            "f4f46a27c496495185282e164d1884e4",
            "69a59c17eec044068cfb4dadf48ea07a",
            "e23be13d279a4c568dce343f64d52eda",
            "b5809b7524e24f439cec1615878c899f",
            "d4e2b180839f453188f9203f389a0176",
            "7eccdfe009414f2d8bdcb83bf67f4f21",
            "103673cda4b24ffeb10017c6cd361aa5",
            "6ddc336b8f58489ea3d65bf3682768b1",
            "516b7f01b34a47158844b40758085fe2",
            "59e2446f6bc34ae3ac874d641efd7814",
            "8537f87d1d874e389cba85a80cb9dce3",
            "9aab3ea558d04ddaa220baa499a05f6f",
            "8317972d84a240fe90a817418bb381d1",
            "c770c7a01866433aacfa69e37fc223d2",
            "045dd5f8e1144cdaa4dbfc1cd2dc6550",
            "55032eb11d3f4c25b00956587829c19b",
            "7d69fd9e6d0c4fef8f3887398ea13440",
            "d931a73c73bc41068dbb2f7686199f66",
            "c6301257dc9b4ec8ba38352ab92ea504",
            "c26612be98e24029b98733caebcb5572",
            "9454f9a2d1d146d8b28a5f17d8631a74",
            "a395b18af7084f279d969b30db833851",
            "bca96dcdf46a4500a8e5e9c330bc23cf",
            "31eb46cfb3b445e5b0c033c9e8b5f641",
            "28a8cb9d75c9490fa902b84541b1f4f4",
            "877785c0c9fd4d458e9a8ef8fbf72318",
            "ab4b8c4be2664f458c3afa034eb45c97",
            "f0084837cdb941e395e135c76940d6b6",
            "102cd1570aee4ca995658fae3470121d",
            "cc98526f36cd4a3c86cbc7f806f2944d",
            "a9ff027a48f444c7814da8cdaebc7b17",
            "b3f7a53b8a714ee6a5c4abaee80c09f8",
            "a7b53bca594d40b98317b1952d8e3805",
            "0b14326506d74b58aeeb29a1900d661a",
            "49b8e21014ca421e8fea9db940d5151a",
            "73229a46d5f04388939123126a235c29",
            "6e7515973dfd48dc875f1b897395cf8f",
            "f55ba06ef5734116a54b0ac142450426",
            "08ef9f08361c4144a455a08359228129",
            "8f4e2296b1e9470f99cc202c5011e013",
            "bcc35a11ac0840458793b5bd16cc579f",
            "17d3bbc3a09541a3a4e6c0211f3f31bb",
            "64e1f7307ecc4dc48f544a6f5f9f491c",
            "472d152783754fb481fc02d0ff486fd8",
            "48706fb4a8234647b7df80b6ef080fb3",
            "abb357efdacc46f0a2e59c4337ef0eab",
            "9e1a35904e894b79999099ade47b2786",
            "f22c42cf35d8416aad82ed4c010af18a",
            "9570b33a2e1b4f728f23fd204cce3794",
            "f12e3e2571794ad1b152685e2e9c07d7",
            "673ec777e2624c4cbcbba5e0c4b38fd2"
          ]
        },
        "id": "8pznyWKlZoHc",
        "outputId": "31dc7563-9028-42e5-d150-14ca34f7e227"
      },
      "outputs": [
        {
          "output_type": "display_data",
          "data": {
            "text/plain": [
              "  0%|          | 0/1000 [00:00<?, ?it/s]"
            ],
            "application/vnd.jupyter.widget-view+json": {
              "version_major": 2,
              "version_minor": 0,
              "model_id": "a1f17b512a3d4e1db3a9cf9df205e41e"
            }
          },
          "metadata": {}
        },
        {
          "output_type": "stream",
          "name": "stdout",
          "text": [
            "Avg Reward: 2.242424242424242, Best Reward: -inf\n"
          ]
        },
        {
          "output_type": "display_data",
          "data": {
            "text/plain": [
              "  0%|          | 0/1000 [00:00<?, ?it/s]"
            ],
            "application/vnd.jupyter.widget-view+json": {
              "version_major": 2,
              "version_minor": 0,
              "model_id": "bba895e2374d42f4a8d99ec9bbb4b713"
            }
          },
          "metadata": {}
        },
        {
          "output_type": "stream",
          "name": "stdout",
          "text": [
            "Avg Reward: 4.5353535353535355, Best Reward: 2.242424242424242\n"
          ]
        },
        {
          "output_type": "display_data",
          "data": {
            "text/plain": [
              "  0%|          | 0/1000 [00:00<?, ?it/s]"
            ],
            "application/vnd.jupyter.widget-view+json": {
              "version_major": 2,
              "version_minor": 0,
              "model_id": "f2b08b671ba84cab8fa504e614d726a0"
            }
          },
          "metadata": {}
        },
        {
          "output_type": "stream",
          "name": "stdout",
          "text": [
            "Avg Reward: 3.787878787878788, Best Reward: 4.5353535353535355\n"
          ]
        },
        {
          "output_type": "display_data",
          "data": {
            "text/plain": [
              "  0%|          | 0/1000 [00:00<?, ?it/s]"
            ],
            "application/vnd.jupyter.widget-view+json": {
              "version_major": 2,
              "version_minor": 0,
              "model_id": "8ec4d7f892b7402e9f6ea4c763c9c38b"
            }
          },
          "metadata": {}
        },
        {
          "output_type": "stream",
          "name": "stdout",
          "text": [
            "Avg Reward: 1.1414141414141414, Best Reward: 4.5353535353535355\n"
          ]
        },
        {
          "output_type": "display_data",
          "data": {
            "text/plain": [
              "  0%|          | 0/1500 [00:00<?, ?it/s]"
            ],
            "application/vnd.jupyter.widget-view+json": {
              "version_major": 2,
              "version_minor": 0,
              "model_id": "6ddc336b8f58489ea3d65bf3682768b1"
            }
          },
          "metadata": {}
        },
        {
          "output_type": "stream",
          "name": "stdout",
          "text": [
            "Avg Reward: 6.898989898989899, Best Reward: 4.5353535353535355\n"
          ]
        },
        {
          "output_type": "display_data",
          "data": {
            "text/plain": [
              "  0%|          | 0/1500 [00:00<?, ?it/s]"
            ],
            "application/vnd.jupyter.widget-view+json": {
              "version_major": 2,
              "version_minor": 0,
              "model_id": "c6301257dc9b4ec8ba38352ab92ea504"
            }
          },
          "metadata": {}
        },
        {
          "output_type": "stream",
          "name": "stdout",
          "text": [
            "Avg Reward: 6.848484848484849, Best Reward: 6.898989898989899\n"
          ]
        },
        {
          "output_type": "display_data",
          "data": {
            "text/plain": [
              "  0%|          | 0/1500 [00:00<?, ?it/s]"
            ],
            "application/vnd.jupyter.widget-view+json": {
              "version_major": 2,
              "version_minor": 0,
              "model_id": "cc98526f36cd4a3c86cbc7f806f2944d"
            }
          },
          "metadata": {}
        },
        {
          "output_type": "stream",
          "name": "stdout",
          "text": [
            "Avg Reward: 7.8686868686868685, Best Reward: 6.898989898989899\n"
          ]
        },
        {
          "output_type": "display_data",
          "data": {
            "text/plain": [
              "  0%|          | 0/1500 [00:00<?, ?it/s]"
            ],
            "application/vnd.jupyter.widget-view+json": {
              "version_major": 2,
              "version_minor": 0,
              "model_id": "bcc35a11ac0840458793b5bd16cc579f"
            }
          },
          "metadata": {}
        },
        {
          "output_type": "stream",
          "name": "stdout",
          "text": [
            "Avg Reward: 6.8686868686868685, Best Reward: 7.8686868686868685\n",
            "Best Hyperparameters: {'n_training_episodes': 1500, 'learning_rate': 0.7, 'decay_rate': 0.003}\n",
            "Best Average Reward: 7.8686868686868685\n",
            "[[  0.           0.           0.           0.           0.\n",
            "    0.        ]\n",
            " [  2.51009469  -5.4953588    1.94961804   3.69092672   5.20997639\n",
            "   -7.80753411]\n",
            " [  5.18406613   6.44752143   4.9343894    6.53406169  10.94938607\n",
            "   -2.54751857]\n",
            " ...\n",
            " [  4.37757876  -2.20511389   4.83809585   9.38968895 -10.7182635\n",
            "  -10.5786135 ]\n",
            " [ -5.10289311   2.69220358  -5.53929655   6.41559113 -12.38925482\n",
            "  -13.61351751]\n",
            " [ 14.49458723   9.47858196  15.6175421   17.99999878   1.994291\n",
            "   -9.747045  ]]\n"
          ]
        }
      ],
      "source": [
        "hyperparameters = {\n",
        "    'n_training_episodes': [1000, 1500],\n",
        "    'learning_rate': [0.5, 0.7],\n",
        "    'decay_rate': [0.003, 0.005],\n",
        "}\n",
        "\n",
        "best_Qtable = None\n",
        "best_reward = float('-inf')\n",
        "best_hyperparameters = None\n",
        "\n",
        "for n_episodes in hyperparameters['n_training_episodes']:\n",
        "    for lr in hyperparameters['learning_rate']:\n",
        "        for decay in hyperparameters['decay_rate']:\n",
        "            Qtable_taxi = np.zeros((state_space, action_space))\n",
        "\n",
        "            trained_Qtable = train(n_episodes, min_epsilon, max_epsilon, decay, env, max_steps, Qtable_taxi)\n",
        "\n",
        "            total_reward = 0\n",
        "            for _ in range(n_eval_episodes):\n",
        "                state, info = env.reset()\n",
        "                episode_reward = 0\n",
        "                terminated = False\n",
        "                for step in range(max_steps):\n",
        "                    action = greedy_policy(trained_Qtable, state)\n",
        "                    step_result = env.step(action)\n",
        "                    if isinstance(state, tuple):\n",
        "                        state = env.s\n",
        "                    new_state = step_result[0]\n",
        "                    reward = step_result[1]\n",
        "                    terminated = step_result[2]\n",
        "                    episode_reward += reward\n",
        "                    if terminated:\n",
        "                        break\n",
        "                    state = new_state\n",
        "                total_reward += episode_reward\n",
        "\n",
        "            avg_reward = total_reward / n_eval_episodes\n",
        "            print(f\"Avg Reward: {avg_reward}, Best Reward: {best_reward}\")\n",
        "\n",
        "            if avg_reward > best_reward:\n",
        "                best_reward = avg_reward\n",
        "                best_Qtable = trained_Qtable\n",
        "                best_hyperparameters = {'n_training_episodes': n_episodes, 'learning_rate': lr, 'decay_rate': decay}\n",
        "\n",
        "print(\"Best Hyperparameters:\", best_hyperparameters)\n",
        "print(\"Best Average Reward:\", best_reward)\n",
        "print(best_Qtable)\n"
      ]
    },
    {
      "cell_type": "markdown",
      "metadata": {
        "id": "2jYgfuUHP8K2"
      },
      "source": [
        "**Evalution Model for Best Hypertuning Paramters**"
      ]
    },
    {
      "cell_type": "code",
      "execution_count": null,
      "metadata": {
        "id": "JXGTAsyVRSVq"
      },
      "outputs": [],
      "source": [
        "def evaluate_agent_hyperparam(env, max_steps, n_eval_episodes, Q, greedy_policy):\n",
        "    total_reward = 0\n",
        "\n",
        "    for _ in range(n_eval_episodes):\n",
        "        state = env.reset()\n",
        "        episode_reward = 0\n",
        "\n",
        "        for step in range(max_steps):\n",
        "            action = greedy_policy(Q, state)\n",
        "            step_result = env.step(action)\n",
        "            new_state = step_result[0]\n",
        "            reward = step_result[1]\n",
        "            terminated = step_result[2]\n",
        "\n",
        "            episode_reward += reward\n",
        "            if terminated:\n",
        "                break\n",
        "\n",
        "            state = new_state\n",
        "\n",
        "        total_reward += episode_reward\n",
        "\n",
        "    avg_reward = total_reward / n_eval_episodes\n",
        "    return avg_reward\n"
      ]
    },
    {
      "cell_type": "code",
      "execution_count": null,
      "metadata": {
        "colab": {
          "base_uri": "https://localhost:8080/"
        },
        "id": "-qg40s4CRVHf",
        "outputId": "5f66be7e-132d-4f07-e1a4-6a7fd21f3352"
      },
      "outputs": [
        {
          "output_type": "stream",
          "name": "stdout",
          "text": [
            "Best Average Reward: 7.929292929292929\n"
          ]
        },
        {
          "output_type": "stream",
          "name": "stderr",
          "text": [
            "/usr/local/lib/python3.10/dist-packages/gymnasium/core.py:311: UserWarning: \u001b[33mWARN: env.s to get variables from other wrappers is deprecated and will be removed in v1.0, to get this variable you can do `env.unwrapped.s` for environment variables or `env.get_wrapper_attr('s')` that will search the reminding wrappers.\u001b[0m\n",
            "  logger.warn(\n"
          ]
        }
      ],
      "source": [
        "best_avg_reward = evaluate_agent_hyperparam(env, max_steps, n_eval_episodes, best_Qtable, greedy_policy)\n",
        "print(\"Best Average Reward:\", best_avg_reward)\n"
      ]
    },
    {
      "cell_type": "markdown",
      "metadata": {
        "id": "4unsgsMGt_pn"
      },
      "source": [
        "model card"
      ]
    },
    {
      "cell_type": "code",
      "execution_count": null,
      "metadata": {
        "id": "3segH7Upt-OE"
      },
      "outputs": [],
      "source": [
        "model = {\n",
        "    \"env_id\": env_id,\n",
        "    \"max_steps\": max_steps,\n",
        "    \"n_training_episodes\": n_training_episodes,\n",
        "    \"n_eval_episodes\": n_eval_episodes,\n",
        "    \"eval_seed\": eval_seed,\n",
        "\n",
        "    \"learning_rate\": learning_rate,\n",
        "    \"gamma\": gamma,\n",
        "\n",
        "    \"max_epsilon\": max_epsilon,\n",
        "    \"min_epsilon\": min_epsilon,\n",
        "    \"decay_rate\": decay_rate,\n",
        "\n",
        "    \"qtable\": Qtable_taxi,\n",
        "    \"qtable_hyperparameter\": best_Qtable}"
      ]
    },
    {
      "cell_type": "markdown",
      "metadata": {
        "id": "dCxLQM75tut6"
      },
      "source": [
        "## Record Video"
      ]
    },
    {
      "cell_type": "markdown",
      "metadata": {
        "id": "Q9gqlZFAmpx1"
      },
      "source": [
        "For agent without hypertuning"
      ]
    },
    {
      "cell_type": "markdown",
      "metadata": {
        "id": "MKBkxEmtuGG8"
      },
      "source": [
        "record video"
      ]
    },
    {
      "cell_type": "code",
      "execution_count": null,
      "metadata": {
        "id": "vYjQc9vbuH1N"
      },
      "outputs": [],
      "source": [
        "def record_video(env, Qtable, out_directory, fps=1, max_steps=20):\n",
        "    \"\"\"\n",
        "    Generate a replay video of the agent.\n",
        "    :param env\n",
        "    :param Qtable: Qtable of our agent\n",
        "    :param out_directory\n",
        "    :param fps: how many frame per seconds (with taxi-v3 and frozenlake-v1 we use 1)\n",
        "    :param max_steps: maximum number of steps for the recording\n",
        "    \"\"\"\n",
        "    images = []\n",
        "    terminated = False\n",
        "    truncated = False\n",
        "    state, info = env.reset(seed=random.randint(0,500))\n",
        "    img = env.render()\n",
        "    images.append(img)\n",
        "    step_count = 0\n",
        "    while (not terminated or not truncated) and step_count < max_steps:\n",
        "        action = np.argmax(Qtable[state][:])\n",
        "        state, reward, terminated, truncated, info = env.step(action)\n",
        "        img = env.render()\n",
        "        images.append(img)\n",
        "        step_count += 1\n",
        "\n",
        "    imageio.mimsave(out_directory, [np.array(img) for i, img in enumerate(images)], fps=fps)"
      ]
    },
    {
      "cell_type": "markdown",
      "metadata": {
        "id": "7oLKdldtuVQt"
      },
      "source": [
        "record single video"
      ]
    },
    {
      "cell_type": "code",
      "execution_count": null,
      "metadata": {
        "id": "Oi-PnI9suXsd",
        "colab": {
          "base_uri": "https://localhost:8080/"
        },
        "outputId": "629e9efd-ca8f-4ad8-d39e-2a1a049c00c9"
      },
      "outputs": [
        {
          "output_type": "stream",
          "name": "stderr",
          "text": [
            "WARNING:imageio_ffmpeg:IMAGEIO FFMPEG_WRITER WARNING: input image is not divisible by macro_block_size=16, resizing from (550, 350) to (560, 352) to ensure video compatibility with most codecs and players. To prevent resizing, make your input image divisible by the macro_block_size or set the macro_block_size to 1 (risking incompatibility).\n"
          ]
        }
      ],
      "source": [
        "video_name = \"replay1.mp4\"\n",
        "record_video(env, model[\"qtable\"],video_name ,1)"
      ]
    },
    {
      "cell_type": "markdown",
      "metadata": {
        "id": "0aE8zRSAvGjI"
      },
      "source": [
        "display video in notebook"
      ]
    },
    {
      "cell_type": "code",
      "execution_count": null,
      "metadata": {
        "id": "GTx0SHl3u-JY",
        "colab": {
          "base_uri": "https://localhost:8080/",
          "height": 398
        },
        "outputId": "5ca000af-78af-4795-c831-01a0008fa0c1"
      },
      "outputs": [
        {
          "output_type": "execute_result",
          "data": {
            "text/plain": [
              "<IPython.core.display.HTML object>"
            ],
            "text/html": [
              "\n",
              "<video width=600 controls>\n",
              "      <source src=\"data:video/mp4;base64,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\" type=\"video/mp4\">\n",
              "</video>\n"
            ]
          },
          "metadata": {},
          "execution_count": 22
        }
      ],
      "source": [
        "from IPython.display import HTML\n",
        "from base64 import b64encode\n",
        "mp4 = open('replay1.mp4','rb').read()\n",
        "data_url = \"data:video/mp4;base64,\" + b64encode(mp4).decode()\n",
        "HTML(\"\"\"\n",
        "<video width=600 controls>\n",
        "      <source src=\"%s\" type=\"video/mp4\">\n",
        "</video>\n",
        "\"\"\" % data_url)"
      ]
    },
    {
      "cell_type": "markdown",
      "metadata": {
        "id": "zqJrVSwQmwAZ"
      },
      "source": [
        "For agent with hypertuning"
      ]
    },
    {
      "cell_type": "code",
      "execution_count": null,
      "metadata": {
        "id": "CuWFwFumxe-A"
      },
      "outputs": [],
      "source": [
        "def record_video(env, best_Qtable, out_directory, fps=1, max_steps=20):\n",
        "    \"\"\"\n",
        "    Generate a replay video of the agent.\n",
        "    :param env\n",
        "    :param Qtable: Qtable of our agent\n",
        "    :param out_directory\n",
        "    :param fps: how many frame per seconds (with taxi-v3 and frozenlake-v1 we use 1)\n",
        "    :param max_steps: maximum number of steps for the recording\n",
        "    \"\"\"\n",
        "    images = []\n",
        "    terminated = False\n",
        "    truncated = False\n",
        "    state, info = env.reset(seed=random.randint(0,500))\n",
        "    img = env.render()\n",
        "    images.append(img)\n",
        "    step_count = 0\n",
        "    while (not terminated or not truncated) and step_count < max_steps:\n",
        "        action = np.argmax(best_Qtable[state][:])\n",
        "        state, reward, terminated, truncated, info = env.step(action)\n",
        "        img = env.render()\n",
        "        images.append(img)\n",
        "        step_count += 1\n",
        "\n",
        "    imageio.mimsave(out_directory, [np.array(img) for i, img in enumerate(images)], fps=fps)"
      ]
    },
    {
      "cell_type": "code",
      "execution_count": null,
      "metadata": {
        "id": "IkllRTGntoGK",
        "colab": {
          "base_uri": "https://localhost:8080/"
        },
        "outputId": "0f88ee2e-20c6-43fd-86ab-e5b80c839975"
      },
      "outputs": [
        {
          "output_type": "stream",
          "name": "stderr",
          "text": [
            "WARNING:imageio_ffmpeg:IMAGEIO FFMPEG_WRITER WARNING: input image is not divisible by macro_block_size=16, resizing from (550, 350) to (560, 352) to ensure video compatibility with most codecs and players. To prevent resizing, make your input image divisible by the macro_block_size or set the macro_block_size to 1 (risking incompatibility).\n"
          ]
        }
      ],
      "source": [
        "video_name = \"replay2.mp4\"\n",
        "record_video(env, model[\"qtable_hyperparameter\"], video_name, 1)"
      ]
    },
    {
      "cell_type": "code",
      "execution_count": null,
      "metadata": {
        "id": "ofGLMDnQtdO8",
        "colab": {
          "base_uri": "https://localhost:8080/",
          "height": 398
        },
        "outputId": "6b4c3f74-69a2-4cb0-f83b-9be4e5a9a4cf"
      },
      "outputs": [
        {
          "output_type": "execute_result",
          "data": {
            "text/plain": [
              "<IPython.core.display.HTML object>"
            ],
            "text/html": [
              "\n",
              "<video width=600 controls>\n",
              "      <source src=\"data:video/mp4;base64,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\" type=\"video/mp4\">\n",
              "</video>\n"
            ]
          },
          "metadata": {},
          "execution_count": 25
        }
      ],
      "source": [
        "from IPython.display import HTML\n",
        "from base64 import b64encode\n",
        "mp4 = open('replay2.mp4','rb').read()\n",
        "data_url = \"data:video/mp4;base64,\" + b64encode(mp4).decode()\n",
        "HTML(\"\"\"\n",
        "<video width=600 controls>\n",
        "      <source src=\"%s\" type=\"video/mp4\">\n",
        "</video>\n",
        "\"\"\" % data_url)"
      ]
    },
    {
      "cell_type": "code",
      "execution_count": null,
      "metadata": {
        "id": "jvm6C6uSOtUi"
      },
      "outputs": [],
      "source": []
    }
  ],
  "metadata": {
    "accelerator": "GPU",
    "colab": {
      "provenance": []
    },
    "kernelspec": {
      "display_name": "Python 3",
      "name": "python3"
    },
    "language_info": {
      "name": "python"
    },
    "widgets": {
      "application/vnd.jupyter.widget-state+json": {
        "2dea713691bf4ca099eeb387f44dc1fd": {
          "model_module": "@jupyter-widgets/controls",
          "model_name": "HBoxModel",
          "model_module_version": "1.5.0",
          "state": {
            "_dom_classes": [],
            "_model_module": "@jupyter-widgets/controls",
            "_model_module_version": "1.5.0",
            "_model_name": "HBoxModel",
            "_view_count": null,
            "_view_module": "@jupyter-widgets/controls",
            "_view_module_version": "1.5.0",
            "_view_name": "HBoxView",
            "box_style": "",
            "children": [
              "IPY_MODEL_b004719ae3b64dc38a6ea7d6be0eb35f",
              "IPY_MODEL_6f52b8153f4f45a6a47cdee2d199540d",
              "IPY_MODEL_f0b9a47792f5497688d52e8372928a57"
            ],
            "layout": "IPY_MODEL_04755e4f041f443ba49bc2901e984fae"
          }
        },
        "b004719ae3b64dc38a6ea7d6be0eb35f": {
          "model_module": "@jupyter-widgets/controls",
          "model_name": "HTMLModel",
          "model_module_version": "1.5.0",
          "state": {
            "_dom_classes": [],
            "_model_module": "@jupyter-widgets/controls",
            "_model_module_version": "1.5.0",
            "_model_name": "HTMLModel",
            "_view_count": null,
            "_view_module": "@jupyter-widgets/controls",
            "_view_module_version": "1.5.0",
            "_view_name": "HTMLView",
            "description": "",
            "description_tooltip": null,
            "layout": "IPY_MODEL_16349ffb360544818a5af5a9fc678866",
            "placeholder": "​",
            "style": "IPY_MODEL_39459762c54242f7985dd8b093ffed36",
            "value": "100%"
          }
        },
        "6f52b8153f4f45a6a47cdee2d199540d": {
          "model_module": "@jupyter-widgets/controls",
          "model_name": "FloatProgressModel",
          "model_module_version": "1.5.0",
          "state": {
            "_dom_classes": [],
            "_model_module": "@jupyter-widgets/controls",
            "_model_module_version": "1.5.0",
            "_model_name": "FloatProgressModel",
            "_view_count": null,
            "_view_module": "@jupyter-widgets/controls",
            "_view_module_version": "1.5.0",
            "_view_name": "ProgressView",
            "bar_style": "success",
            "description": "",
            "description_tooltip": null,
            "layout": "IPY_MODEL_51a6d31ad6cc482b9862e998c0abb1cd",
            "max": 1500,
            "min": 0,
            "orientation": "horizontal",
            "style": "IPY_MODEL_d63b4a7c1c2e4627843f0146cf62cd39",
            "value": 1500
          }
        },
        "f0b9a47792f5497688d52e8372928a57": {
          "model_module": "@jupyter-widgets/controls",
          "model_name": "HTMLModel",
          "model_module_version": "1.5.0",
          "state": {
            "_dom_classes": [],
            "_model_module": "@jupyter-widgets/controls",
            "_model_module_version": "1.5.0",
            "_model_name": "HTMLModel",
            "_view_count": null,
            "_view_module": "@jupyter-widgets/controls",
            "_view_module_version": "1.5.0",
            "_view_name": "HTMLView",
            "description": "",
            "description_tooltip": null,
            "layout": "IPY_MODEL_d594efeb8a34400db0c3033b8de93280",
            "placeholder": "​",
            "style": "IPY_MODEL_91bb2ba044994b6db835ec28ddfeff80",
            "value": " 1500/1500 [00:02&lt;00:00, 1238.13it/s]"
          }
        },
        "04755e4f041f443ba49bc2901e984fae": {
          "model_module": "@jupyter-widgets/base",
          "model_name": "LayoutModel",
          "model_module_version": "1.2.0",
          "state": {
            "_model_module": "@jupyter-widgets/base",
            "_model_module_version": "1.2.0",
            "_model_name": "LayoutModel",
            "_view_count": null,
            "_view_module": "@jupyter-widgets/base",
            "_view_module_version": "1.2.0",
            "_view_name": "LayoutView",
            "align_content": null,
            "align_items": null,
            "align_self": null,
            "border": null,
            "bottom": null,
            "display": null,
            "flex": null,
            "flex_flow": null,
            "grid_area": null,
            "grid_auto_columns": null,
            "grid_auto_flow": null,
            "grid_auto_rows": null,
            "grid_column": null,
            "grid_gap": null,
            "grid_row": null,
            "grid_template_areas": null,
            "grid_template_columns": null,
            "grid_template_rows": null,
            "height": null,
            "justify_content": null,
            "justify_items": null,
            "left": null,
            "margin": null,
            "max_height": null,
            "max_width": null,
            "min_height": null,
            "min_width": null,
            "object_fit": null,
            "object_position": null,
            "order": null,
            "overflow": null,
            "overflow_x": null,
            "overflow_y": null,
            "padding": null,
            "right": null,
            "top": null,
            "visibility": null,
            "width": null
          }
        },
        "16349ffb360544818a5af5a9fc678866": {
          "model_module": "@jupyter-widgets/base",
          "model_name": "LayoutModel",
          "model_module_version": "1.2.0",
          "state": {
            "_model_module": "@jupyter-widgets/base",
            "_model_module_version": "1.2.0",
            "_model_name": "LayoutModel",
            "_view_count": null,
            "_view_module": "@jupyter-widgets/base",
            "_view_module_version": "1.2.0",
            "_view_name": "LayoutView",
            "align_content": null,
            "align_items": null,
            "align_self": null,
            "border": null,
            "bottom": null,
            "display": null,
            "flex": null,
            "flex_flow": null,
            "grid_area": null,
            "grid_auto_columns": null,
            "grid_auto_flow": null,
            "grid_auto_rows": null,
            "grid_column": null,
            "grid_gap": null,
            "grid_row": null,
            "grid_template_areas": null,
            "grid_template_columns": null,
            "grid_template_rows": null,
            "height": null,
            "justify_content": null,
            "justify_items": null,
            "left": null,
            "margin": null,
            "max_height": null,
            "max_width": null,
            "min_height": null,
            "min_width": null,
            "object_fit": null,
            "object_position": null,
            "order": null,
            "overflow": null,
            "overflow_x": null,
            "overflow_y": null,
            "padding": null,
            "right": null,
            "top": null,
            "visibility": null,
            "width": null
          }
        },
        "39459762c54242f7985dd8b093ffed36": {
          "model_module": "@jupyter-widgets/controls",
          "model_name": "DescriptionStyleModel",
          "model_module_version": "1.5.0",
          "state": {
            "_model_module": "@jupyter-widgets/controls",
            "_model_module_version": "1.5.0",
            "_model_name": "DescriptionStyleModel",
            "_view_count": null,
            "_view_module": "@jupyter-widgets/base",
            "_view_module_version": "1.2.0",
            "_view_name": "StyleView",
            "description_width": ""
          }
        },
        "51a6d31ad6cc482b9862e998c0abb1cd": {
          "model_module": "@jupyter-widgets/base",
          "model_name": "LayoutModel",
          "model_module_version": "1.2.0",
          "state": {
            "_model_module": "@jupyter-widgets/base",
            "_model_module_version": "1.2.0",
            "_model_name": "LayoutModel",
            "_view_count": null,
            "_view_module": "@jupyter-widgets/base",
            "_view_module_version": "1.2.0",
            "_view_name": "LayoutView",
            "align_content": null,
            "align_items": null,
            "align_self": null,
            "border": null,
            "bottom": null,
            "display": null,
            "flex": null,
            "flex_flow": null,
            "grid_area": null,
            "grid_auto_columns": null,
            "grid_auto_flow": null,
            "grid_auto_rows": null,
            "grid_column": null,
            "grid_gap": null,
            "grid_row": null,
            "grid_template_areas": null,
            "grid_template_columns": null,
            "grid_template_rows": null,
            "height": null,
            "justify_content": null,
            "justify_items": null,
            "left": null,
            "margin": null,
            "max_height": null,
            "max_width": null,
            "min_height": null,
            "min_width": null,
            "object_fit": null,
            "object_position": null,
            "order": null,
            "overflow": null,
            "overflow_x": null,
            "overflow_y": null,
            "padding": null,
            "right": null,
            "top": null,
            "visibility": null,
            "width": null
          }
        },
        "d63b4a7c1c2e4627843f0146cf62cd39": {
          "model_module": "@jupyter-widgets/controls",
          "model_name": "ProgressStyleModel",
          "model_module_version": "1.5.0",
          "state": {
            "_model_module": "@jupyter-widgets/controls",
            "_model_module_version": "1.5.0",
            "_model_name": "ProgressStyleModel",
            "_view_count": null,
            "_view_module": "@jupyter-widgets/base",
            "_view_module_version": "1.2.0",
            "_view_name": "StyleView",
            "bar_color": null,
            "description_width": ""
          }
        },
        "d594efeb8a34400db0c3033b8de93280": {
          "model_module": "@jupyter-widgets/base",
          "model_name": "LayoutModel",
          "model_module_version": "1.2.0",
          "state": {
            "_model_module": "@jupyter-widgets/base",
            "_model_module_version": "1.2.0",
            "_model_name": "LayoutModel",
            "_view_count": null,
            "_view_module": "@jupyter-widgets/base",
            "_view_module_version": "1.2.0",
            "_view_name": "LayoutView",
            "align_content": null,
            "align_items": null,
            "align_self": null,
            "border": null,
            "bottom": null,
            "display": null,
            "flex": null,
            "flex_flow": null,
            "grid_area": null,
            "grid_auto_columns": null,
            "grid_auto_flow": null,
            "grid_auto_rows": null,
            "grid_column": null,
            "grid_gap": null,
            "grid_row": null,
            "grid_template_areas": null,
            "grid_template_columns": null,
            "grid_template_rows": null,
            "height": null,
            "justify_content": null,
            "justify_items": null,
            "left": null,
            "margin": null,
            "max_height": null,
            "max_width": null,
            "min_height": null,
            "min_width": null,
            "object_fit": null,
            "object_position": null,
            "order": null,
            "overflow": null,
            "overflow_x": null,
            "overflow_y": null,
            "padding": null,
            "right": null,
            "top": null,
            "visibility": null,
            "width": null
          }
        },
        "91bb2ba044994b6db835ec28ddfeff80": {
          "model_module": "@jupyter-widgets/controls",
          "model_name": "DescriptionStyleModel",
          "model_module_version": "1.5.0",
          "state": {
            "_model_module": "@jupyter-widgets/controls",
            "_model_module_version": "1.5.0",
            "_model_name": "DescriptionStyleModel",
            "_view_count": null,
            "_view_module": "@jupyter-widgets/base",
            "_view_module_version": "1.2.0",
            "_view_name": "StyleView",
            "description_width": ""
          }
        },
        "f216c2a05d074898a4d09fadc2a73964": {
          "model_module": "@jupyter-widgets/controls",
          "model_name": "HBoxModel",
          "model_module_version": "1.5.0",
          "state": {
            "_dom_classes": [],
            "_model_module": "@jupyter-widgets/controls",
            "_model_module_version": "1.5.0",
            "_model_name": "HBoxModel",
            "_view_count": null,
            "_view_module": "@jupyter-widgets/controls",
            "_view_module_version": "1.5.0",
            "_view_name": "HBoxView",
            "box_style": "",
            "children": [
              "IPY_MODEL_d5786b88de35442db108975f7d7c5edc",
              "IPY_MODEL_459ecad4cd1a4f06aab2924591b24a76",
              "IPY_MODEL_36aa905e519c428f8fd5f08e9fa10cc1"
            ],
            "layout": "IPY_MODEL_9365e7bae4544ba0b35f23b96a4ac30f"
          }
        },
        "d5786b88de35442db108975f7d7c5edc": {
          "model_module": "@jupyter-widgets/controls",
          "model_name": "HTMLModel",
          "model_module_version": "1.5.0",
          "state": {
            "_dom_classes": [],
            "_model_module": "@jupyter-widgets/controls",
            "_model_module_version": "1.5.0",
            "_model_name": "HTMLModel",
            "_view_count": null,
            "_view_module": "@jupyter-widgets/controls",
            "_view_module_version": "1.5.0",
            "_view_name": "HTMLView",
            "description": "",
            "description_tooltip": null,
            "layout": "IPY_MODEL_7d0ea0a9341e485ab5046814337bb601",
            "placeholder": "​",
            "style": "IPY_MODEL_4439a3e97a764525934d831f66718338",
            "value": "100%"
          }
        },
        "459ecad4cd1a4f06aab2924591b24a76": {
          "model_module": "@jupyter-widgets/controls",
          "model_name": "FloatProgressModel",
          "model_module_version": "1.5.0",
          "state": {
            "_dom_classes": [],
            "_model_module": "@jupyter-widgets/controls",
            "_model_module_version": "1.5.0",
            "_model_name": "FloatProgressModel",
            "_view_count": null,
            "_view_module": "@jupyter-widgets/controls",
            "_view_module_version": "1.5.0",
            "_view_name": "ProgressView",
            "bar_style": "success",
            "description": "",
            "description_tooltip": null,
            "layout": "IPY_MODEL_fec2bd8c7243413f90a37a39f34e27d7",
            "max": 99,
            "min": 0,
            "orientation": "horizontal",
            "style": "IPY_MODEL_62f43af1b883425faf7c5b987fdf4b3c",
            "value": 99
          }
        },
        "36aa905e519c428f8fd5f08e9fa10cc1": {
          "model_module": "@jupyter-widgets/controls",
          "model_name": "HTMLModel",
          "model_module_version": "1.5.0",
          "state": {
            "_dom_classes": [],
            "_model_module": "@jupyter-widgets/controls",
            "_model_module_version": "1.5.0",
            "_model_name": "HTMLModel",
            "_view_count": null,
            "_view_module": "@jupyter-widgets/controls",
            "_view_module_version": "1.5.0",
            "_view_name": "HTMLView",
            "description": "",
            "description_tooltip": null,
            "layout": "IPY_MODEL_edec8cc66c124844bb92437849eb980c",
            "placeholder": "​",
            "style": "IPY_MODEL_86fe7fc7feb847a3b49c0ac37d6fdbc6",
            "value": " 99/99 [00:00&lt;00:00, 1420.35it/s]"
          }
        },
        "9365e7bae4544ba0b35f23b96a4ac30f": {
          "model_module": "@jupyter-widgets/base",
          "model_name": "LayoutModel",
          "model_module_version": "1.2.0",
          "state": {
            "_model_module": "@jupyter-widgets/base",
            "_model_module_version": "1.2.0",
            "_model_name": "LayoutModel",
            "_view_count": null,
            "_view_module": "@jupyter-widgets/base",
            "_view_module_version": "1.2.0",
            "_view_name": "LayoutView",
            "align_content": null,
            "align_items": null,
            "align_self": null,
            "border": null,
            "bottom": null,
            "display": null,
            "flex": null,
            "flex_flow": null,
            "grid_area": null,
            "grid_auto_columns": null,
            "grid_auto_flow": null,
            "grid_auto_rows": null,
            "grid_column": null,
            "grid_gap": null,
            "grid_row": null,
            "grid_template_areas": null,
            "grid_template_columns": null,
            "grid_template_rows": null,
            "height": null,
            "justify_content": null,
            "justify_items": null,
            "left": null,
            "margin": null,
            "max_height": null,
            "max_width": null,
            "min_height": null,
            "min_width": null,
            "object_fit": null,
            "object_position": null,
            "order": null,
            "overflow": null,
            "overflow_x": null,
            "overflow_y": null,
            "padding": null,
            "right": null,
            "top": null,
            "visibility": null,
            "width": null
          }
        },
        "7d0ea0a9341e485ab5046814337bb601": {
          "model_module": "@jupyter-widgets/base",
          "model_name": "LayoutModel",
          "model_module_version": "1.2.0",
          "state": {
            "_model_module": "@jupyter-widgets/base",
            "_model_module_version": "1.2.0",
            "_model_name": "LayoutModel",
            "_view_count": null,
            "_view_module": "@jupyter-widgets/base",
            "_view_module_version": "1.2.0",
            "_view_name": "LayoutView",
            "align_content": null,
            "align_items": null,
            "align_self": null,
            "border": null,
            "bottom": null,
            "display": null,
            "flex": null,
            "flex_flow": null,
            "grid_area": null,
            "grid_auto_columns": null,
            "grid_auto_flow": null,
            "grid_auto_rows": null,
            "grid_column": null,
            "grid_gap": null,
            "grid_row": null,
            "grid_template_areas": null,
            "grid_template_columns": null,
            "grid_template_rows": null,
            "height": null,
            "justify_content": null,
            "justify_items": null,
            "left": null,
            "margin": null,
            "max_height": null,
            "max_width": null,
            "min_height": null,
            "min_width": null,
            "object_fit": null,
            "object_position": null,
            "order": null,
            "overflow": null,
            "overflow_x": null,
            "overflow_y": null,
            "padding": null,
            "right": null,
            "top": null,
            "visibility": null,
            "width": null
          }
        },
        "4439a3e97a764525934d831f66718338": {
          "model_module": "@jupyter-widgets/controls",
          "model_name": "DescriptionStyleModel",
          "model_module_version": "1.5.0",
          "state": {
            "_model_module": "@jupyter-widgets/controls",
            "_model_module_version": "1.5.0",
            "_model_name": "DescriptionStyleModel",
            "_view_count": null,
            "_view_module": "@jupyter-widgets/base",
            "_view_module_version": "1.2.0",
            "_view_name": "StyleView",
            "description_width": ""
          }
        },
        "fec2bd8c7243413f90a37a39f34e27d7": {
          "model_module": "@jupyter-widgets/base",
          "model_name": "LayoutModel",
          "model_module_version": "1.2.0",
          "state": {
            "_model_module": "@jupyter-widgets/base",
            "_model_module_version": "1.2.0",
            "_model_name": "LayoutModel",
            "_view_count": null,
            "_view_module": "@jupyter-widgets/base",
            "_view_module_version": "1.2.0",
            "_view_name": "LayoutView",
            "align_content": null,
            "align_items": null,
            "align_self": null,
            "border": null,
            "bottom": null,
            "display": null,
            "flex": null,
            "flex_flow": null,
            "grid_area": null,
            "grid_auto_columns": null,
            "grid_auto_flow": null,
            "grid_auto_rows": null,
            "grid_column": null,
            "grid_gap": null,
            "grid_row": null,
            "grid_template_areas": null,
            "grid_template_columns": null,
            "grid_template_rows": null,
            "height": null,
            "justify_content": null,
            "justify_items": null,
            "left": null,
            "margin": null,
            "max_height": null,
            "max_width": null,
            "min_height": null,
            "min_width": null,
            "object_fit": null,
            "object_position": null,
            "order": null,
            "overflow": null,
            "overflow_x": null,
            "overflow_y": null,
            "padding": null,
            "right": null,
            "top": null,
            "visibility": null,
            "width": null
          }
        },
        "62f43af1b883425faf7c5b987fdf4b3c": {
          "model_module": "@jupyter-widgets/controls",
          "model_name": "ProgressStyleModel",
          "model_module_version": "1.5.0",
          "state": {
            "_model_module": "@jupyter-widgets/controls",
            "_model_module_version": "1.5.0",
            "_model_name": "ProgressStyleModel",
            "_view_count": null,
            "_view_module": "@jupyter-widgets/base",
            "_view_module_version": "1.2.0",
            "_view_name": "StyleView",
            "bar_color": null,
            "description_width": ""
          }
        },
        "edec8cc66c124844bb92437849eb980c": {
          "model_module": "@jupyter-widgets/base",
          "model_name": "LayoutModel",
          "model_module_version": "1.2.0",
          "state": {
            "_model_module": "@jupyter-widgets/base",
            "_model_module_version": "1.2.0",
            "_model_name": "LayoutModel",
            "_view_count": null,
            "_view_module": "@jupyter-widgets/base",
            "_view_module_version": "1.2.0",
            "_view_name": "LayoutView",
            "align_content": null,
            "align_items": null,
            "align_self": null,
            "border": null,
            "bottom": null,
            "display": null,
            "flex": null,
            "flex_flow": null,
            "grid_area": null,
            "grid_auto_columns": null,
            "grid_auto_flow": null,
            "grid_auto_rows": null,
            "grid_column": null,
            "grid_gap": null,
            "grid_row": null,
            "grid_template_areas": null,
            "grid_template_columns": null,
            "grid_template_rows": null,
            "height": null,
            "justify_content": null,
            "justify_items": null,
            "left": null,
            "margin": null,
            "max_height": null,
            "max_width": null,
            "min_height": null,
            "min_width": null,
            "object_fit": null,
            "object_position": null,
            "order": null,
            "overflow": null,
            "overflow_x": null,
            "overflow_y": null,
            "padding": null,
            "right": null,
            "top": null,
            "visibility": null,
            "width": null
          }
        },
        "86fe7fc7feb847a3b49c0ac37d6fdbc6": {
          "model_module": "@jupyter-widgets/controls",
          "model_name": "DescriptionStyleModel",
          "model_module_version": "1.5.0",
          "state": {
            "_model_module": "@jupyter-widgets/controls",
            "_model_module_version": "1.5.0",
            "_model_name": "DescriptionStyleModel",
            "_view_count": null,
            "_view_module": "@jupyter-widgets/base",
            "_view_module_version": "1.2.0",
            "_view_name": "StyleView",
            "description_width": ""
          }
        },
        "a1f17b512a3d4e1db3a9cf9df205e41e": {
          "model_module": "@jupyter-widgets/controls",
          "model_name": "HBoxModel",
          "model_module_version": "1.5.0",
          "state": {
            "_dom_classes": [],
            "_model_module": "@jupyter-widgets/controls",
            "_model_module_version": "1.5.0",
            "_model_name": "HBoxModel",
            "_view_count": null,
            "_view_module": "@jupyter-widgets/controls",
            "_view_module_version": "1.5.0",
            "_view_name": "HBoxView",
            "box_style": "",
            "children": [
              "IPY_MODEL_9c3a13ccce0548eb9ff2474ea805e648",
              "IPY_MODEL_be1e86a6fe864b659160dd50e7ea979a",
              "IPY_MODEL_64591534ed184cb3ae904005355a006d"
            ],
            "layout": "IPY_MODEL_3701493779814cc482918d13f878265b"
          }
        },
        "9c3a13ccce0548eb9ff2474ea805e648": {
          "model_module": "@jupyter-widgets/controls",
          "model_name": "HTMLModel",
          "model_module_version": "1.5.0",
          "state": {
            "_dom_classes": [],
            "_model_module": "@jupyter-widgets/controls",
            "_model_module_version": "1.5.0",
            "_model_name": "HTMLModel",
            "_view_count": null,
            "_view_module": "@jupyter-widgets/controls",
            "_view_module_version": "1.5.0",
            "_view_name": "HTMLView",
            "description": "",
            "description_tooltip": null,
            "layout": "IPY_MODEL_75e32baca72c4853a192596d0e08cdc6",
            "placeholder": "​",
            "style": "IPY_MODEL_915e6a7cc77f40acaab469f8255cb6c2",
            "value": "100%"
          }
        },
        "be1e86a6fe864b659160dd50e7ea979a": {
          "model_module": "@jupyter-widgets/controls",
          "model_name": "FloatProgressModel",
          "model_module_version": "1.5.0",
          "state": {
            "_dom_classes": [],
            "_model_module": "@jupyter-widgets/controls",
            "_model_module_version": "1.5.0",
            "_model_name": "FloatProgressModel",
            "_view_count": null,
            "_view_module": "@jupyter-widgets/controls",
            "_view_module_version": "1.5.0",
            "_view_name": "ProgressView",
            "bar_style": "success",
            "description": "",
            "description_tooltip": null,
            "layout": "IPY_MODEL_29ac983b77a042689d5ee3558f03d227",
            "max": 1000,
            "min": 0,
            "orientation": "horizontal",
            "style": "IPY_MODEL_b180d7c152244b678f9573c952a7ce04",
            "value": 1000
          }
        },
        "64591534ed184cb3ae904005355a006d": {
          "model_module": "@jupyter-widgets/controls",
          "model_name": "HTMLModel",
          "model_module_version": "1.5.0",
          "state": {
            "_dom_classes": [],
            "_model_module": "@jupyter-widgets/controls",
            "_model_module_version": "1.5.0",
            "_model_name": "HTMLModel",
            "_view_count": null,
            "_view_module": "@jupyter-widgets/controls",
            "_view_module_version": "1.5.0",
            "_view_name": "HTMLView",
            "description": "",
            "description_tooltip": null,
            "layout": "IPY_MODEL_0928fcabbdc24537b8680704a79ff706",
            "placeholder": "​",
            "style": "IPY_MODEL_c48addb0f5394d6eb0da2e571ff31dde",
            "value": " 1000/1000 [00:02&lt;00:00, 961.59it/s]"
          }
        },
        "3701493779814cc482918d13f878265b": {
          "model_module": "@jupyter-widgets/base",
          "model_name": "LayoutModel",
          "model_module_version": "1.2.0",
          "state": {
            "_model_module": "@jupyter-widgets/base",
            "_model_module_version": "1.2.0",
            "_model_name": "LayoutModel",
            "_view_count": null,
            "_view_module": "@jupyter-widgets/base",
            "_view_module_version": "1.2.0",
            "_view_name": "LayoutView",
            "align_content": null,
            "align_items": null,
            "align_self": null,
            "border": null,
            "bottom": null,
            "display": null,
            "flex": null,
            "flex_flow": null,
            "grid_area": null,
            "grid_auto_columns": null,
            "grid_auto_flow": null,
            "grid_auto_rows": null,
            "grid_column": null,
            "grid_gap": null,
            "grid_row": null,
            "grid_template_areas": null,
            "grid_template_columns": null,
            "grid_template_rows": null,
            "height": null,
            "justify_content": null,
            "justify_items": null,
            "left": null,
            "margin": null,
            "max_height": null,
            "max_width": null,
            "min_height": null,
            "min_width": null,
            "object_fit": null,
            "object_position": null,
            "order": null,
            "overflow": null,
            "overflow_x": null,
            "overflow_y": null,
            "padding": null,
            "right": null,
            "top": null,
            "visibility": null,
            "width": null
          }
        },
        "75e32baca72c4853a192596d0e08cdc6": {
          "model_module": "@jupyter-widgets/base",
          "model_name": "LayoutModel",
          "model_module_version": "1.2.0",
          "state": {
            "_model_module": "@jupyter-widgets/base",
            "_model_module_version": "1.2.0",
            "_model_name": "LayoutModel",
            "_view_count": null,
            "_view_module": "@jupyter-widgets/base",
            "_view_module_version": "1.2.0",
            "_view_name": "LayoutView",
            "align_content": null,
            "align_items": null,
            "align_self": null,
            "border": null,
            "bottom": null,
            "display": null,
            "flex": null,
            "flex_flow": null,
            "grid_area": null,
            "grid_auto_columns": null,
            "grid_auto_flow": null,
            "grid_auto_rows": null,
            "grid_column": null,
            "grid_gap": null,
            "grid_row": null,
            "grid_template_areas": null,
            "grid_template_columns": null,
            "grid_template_rows": null,
            "height": null,
            "justify_content": null,
            "justify_items": null,
            "left": null,
            "margin": null,
            "max_height": null,
            "max_width": null,
            "min_height": null,
            "min_width": null,
            "object_fit": null,
            "object_position": null,
            "order": null,
            "overflow": null,
            "overflow_x": null,
            "overflow_y": null,
            "padding": null,
            "right": null,
            "top": null,
            "visibility": null,
            "width": null
          }
        },
        "915e6a7cc77f40acaab469f8255cb6c2": {
          "model_module": "@jupyter-widgets/controls",
          "model_name": "DescriptionStyleModel",
          "model_module_version": "1.5.0",
          "state": {
            "_model_module": "@jupyter-widgets/controls",
            "_model_module_version": "1.5.0",
            "_model_name": "DescriptionStyleModel",
            "_view_count": null,
            "_view_module": "@jupyter-widgets/base",
            "_view_module_version": "1.2.0",
            "_view_name": "StyleView",
            "description_width": ""
          }
        },
        "29ac983b77a042689d5ee3558f03d227": {
          "model_module": "@jupyter-widgets/base",
          "model_name": "LayoutModel",
          "model_module_version": "1.2.0",
          "state": {
            "_model_module": "@jupyter-widgets/base",
            "_model_module_version": "1.2.0",
            "_model_name": "LayoutModel",
            "_view_count": null,
            "_view_module": "@jupyter-widgets/base",
            "_view_module_version": "1.2.0",
            "_view_name": "LayoutView",
            "align_content": null,
            "align_items": null,
            "align_self": null,
            "border": null,
            "bottom": null,
            "display": null,
            "flex": null,
            "flex_flow": null,
            "grid_area": null,
            "grid_auto_columns": null,
            "grid_auto_flow": null,
            "grid_auto_rows": null,
            "grid_column": null,
            "grid_gap": null,
            "grid_row": null,
            "grid_template_areas": null,
            "grid_template_columns": null,
            "grid_template_rows": null,
            "height": null,
            "justify_content": null,
            "justify_items": null,
            "left": null,
            "margin": null,
            "max_height": null,
            "max_width": null,
            "min_height": null,
            "min_width": null,
            "object_fit": null,
            "object_position": null,
            "order": null,
            "overflow": null,
            "overflow_x": null,
            "overflow_y": null,
            "padding": null,
            "right": null,
            "top": null,
            "visibility": null,
            "width": null
          }
        },
        "b180d7c152244b678f9573c952a7ce04": {
          "model_module": "@jupyter-widgets/controls",
          "model_name": "ProgressStyleModel",
          "model_module_version": "1.5.0",
          "state": {
            "_model_module": "@jupyter-widgets/controls",
            "_model_module_version": "1.5.0",
            "_model_name": "ProgressStyleModel",
            "_view_count": null,
            "_view_module": "@jupyter-widgets/base",
            "_view_module_version": "1.2.0",
            "_view_name": "StyleView",
            "bar_color": null,
            "description_width": ""
          }
        },
        "0928fcabbdc24537b8680704a79ff706": {
          "model_module": "@jupyter-widgets/base",
          "model_name": "LayoutModel",
          "model_module_version": "1.2.0",
          "state": {
            "_model_module": "@jupyter-widgets/base",
            "_model_module_version": "1.2.0",
            "_model_name": "LayoutModel",
            "_view_count": null,
            "_view_module": "@jupyter-widgets/base",
            "_view_module_version": "1.2.0",
            "_view_name": "LayoutView",
            "align_content": null,
            "align_items": null,
            "align_self": null,
            "border": null,
            "bottom": null,
            "display": null,
            "flex": null,
            "flex_flow": null,
            "grid_area": null,
            "grid_auto_columns": null,
            "grid_auto_flow": null,
            "grid_auto_rows": null,
            "grid_column": null,
            "grid_gap": null,
            "grid_row": null,
            "grid_template_areas": null,
            "grid_template_columns": null,
            "grid_template_rows": null,
            "height": null,
            "justify_content": null,
            "justify_items": null,
            "left": null,
            "margin": null,
            "max_height": null,
            "max_width": null,
            "min_height": null,
            "min_width": null,
            "object_fit": null,
            "object_position": null,
            "order": null,
            "overflow": null,
            "overflow_x": null,
            "overflow_y": null,
            "padding": null,
            "right": null,
            "top": null,
            "visibility": null,
            "width": null
          }
        },
        "c48addb0f5394d6eb0da2e571ff31dde": {
          "model_module": "@jupyter-widgets/controls",
          "model_name": "DescriptionStyleModel",
          "model_module_version": "1.5.0",
          "state": {
            "_model_module": "@jupyter-widgets/controls",
            "_model_module_version": "1.5.0",
            "_model_name": "DescriptionStyleModel",
            "_view_count": null,
            "_view_module": "@jupyter-widgets/base",
            "_view_module_version": "1.2.0",
            "_view_name": "StyleView",
            "description_width": ""
          }
        },
        "bba895e2374d42f4a8d99ec9bbb4b713": {
          "model_module": "@jupyter-widgets/controls",
          "model_name": "HBoxModel",
          "model_module_version": "1.5.0",
          "state": {
            "_dom_classes": [],
            "_model_module": "@jupyter-widgets/controls",
            "_model_module_version": "1.5.0",
            "_model_name": "HBoxModel",
            "_view_count": null,
            "_view_module": "@jupyter-widgets/controls",
            "_view_module_version": "1.5.0",
            "_view_name": "HBoxView",
            "box_style": "",
            "children": [
              "IPY_MODEL_658175808bf14ab6abec9b95b6a3b661",
              "IPY_MODEL_f0c1b19cb9ea4c46a661f5fc8ee956b3",
              "IPY_MODEL_e88e3005f2c544c1ac883013837eba4c"
            ],
            "layout": "IPY_MODEL_84631f6ad5684876816f668f4f717f3e"
          }
        },
        "658175808bf14ab6abec9b95b6a3b661": {
          "model_module": "@jupyter-widgets/controls",
          "model_name": "HTMLModel",
          "model_module_version": "1.5.0",
          "state": {
            "_dom_classes": [],
            "_model_module": "@jupyter-widgets/controls",
            "_model_module_version": "1.5.0",
            "_model_name": "HTMLModel",
            "_view_count": null,
            "_view_module": "@jupyter-widgets/controls",
            "_view_module_version": "1.5.0",
            "_view_name": "HTMLView",
            "description": "",
            "description_tooltip": null,
            "layout": "IPY_MODEL_62827cb4a8c640d5a83cb1eb6fbd8389",
            "placeholder": "​",
            "style": "IPY_MODEL_e5a42417e8f146608a15c843ed5dc43f",
            "value": "100%"
          }
        },
        "f0c1b19cb9ea4c46a661f5fc8ee956b3": {
          "model_module": "@jupyter-widgets/controls",
          "model_name": "FloatProgressModel",
          "model_module_version": "1.5.0",
          "state": {
            "_dom_classes": [],
            "_model_module": "@jupyter-widgets/controls",
            "_model_module_version": "1.5.0",
            "_model_name": "FloatProgressModel",
            "_view_count": null,
            "_view_module": "@jupyter-widgets/controls",
            "_view_module_version": "1.5.0",
            "_view_name": "ProgressView",
            "bar_style": "success",
            "description": "",
            "description_tooltip": null,
            "layout": "IPY_MODEL_bba86a5dbe0e4ba38599c96195c098b6",
            "max": 1000,
            "min": 0,
            "orientation": "horizontal",
            "style": "IPY_MODEL_9dbf8e0251494e02851e76270b13f47d",
            "value": 1000
          }
        },
        "e88e3005f2c544c1ac883013837eba4c": {
          "model_module": "@jupyter-widgets/controls",
          "model_name": "HTMLModel",
          "model_module_version": "1.5.0",
          "state": {
            "_dom_classes": [],
            "_model_module": "@jupyter-widgets/controls",
            "_model_module_version": "1.5.0",
            "_model_name": "HTMLModel",
            "_view_count": null,
            "_view_module": "@jupyter-widgets/controls",
            "_view_module_version": "1.5.0",
            "_view_name": "HTMLView",
            "description": "",
            "description_tooltip": null,
            "layout": "IPY_MODEL_d1953154bb164b15b2cdb894b424d1bb",
            "placeholder": "​",
            "style": "IPY_MODEL_2dbefdc4a1434e148347c48f0e8a9eb2",
            "value": " 1000/1000 [00:01&lt;00:00, 1037.59it/s]"
          }
        },
        "84631f6ad5684876816f668f4f717f3e": {
          "model_module": "@jupyter-widgets/base",
          "model_name": "LayoutModel",
          "model_module_version": "1.2.0",
          "state": {
            "_model_module": "@jupyter-widgets/base",
            "_model_module_version": "1.2.0",
            "_model_name": "LayoutModel",
            "_view_count": null,
            "_view_module": "@jupyter-widgets/base",
            "_view_module_version": "1.2.0",
            "_view_name": "LayoutView",
            "align_content": null,
            "align_items": null,
            "align_self": null,
            "border": null,
            "bottom": null,
            "display": null,
            "flex": null,
            "flex_flow": null,
            "grid_area": null,
            "grid_auto_columns": null,
            "grid_auto_flow": null,
            "grid_auto_rows": null,
            "grid_column": null,
            "grid_gap": null,
            "grid_row": null,
            "grid_template_areas": null,
            "grid_template_columns": null,
            "grid_template_rows": null,
            "height": null,
            "justify_content": null,
            "justify_items": null,
            "left": null,
            "margin": null,
            "max_height": null,
            "max_width": null,
            "min_height": null,
            "min_width": null,
            "object_fit": null,
            "object_position": null,
            "order": null,
            "overflow": null,
            "overflow_x": null,
            "overflow_y": null,
            "padding": null,
            "right": null,
            "top": null,
            "visibility": null,
            "width": null
          }
        },
        "62827cb4a8c640d5a83cb1eb6fbd8389": {
          "model_module": "@jupyter-widgets/base",
          "model_name": "LayoutModel",
          "model_module_version": "1.2.0",
          "state": {
            "_model_module": "@jupyter-widgets/base",
            "_model_module_version": "1.2.0",
            "_model_name": "LayoutModel",
            "_view_count": null,
            "_view_module": "@jupyter-widgets/base",
            "_view_module_version": "1.2.0",
            "_view_name": "LayoutView",
            "align_content": null,
            "align_items": null,
            "align_self": null,
            "border": null,
            "bottom": null,
            "display": null,
            "flex": null,
            "flex_flow": null,
            "grid_area": null,
            "grid_auto_columns": null,
            "grid_auto_flow": null,
            "grid_auto_rows": null,
            "grid_column": null,
            "grid_gap": null,
            "grid_row": null,
            "grid_template_areas": null,
            "grid_template_columns": null,
            "grid_template_rows": null,
            "height": null,
            "justify_content": null,
            "justify_items": null,
            "left": null,
            "margin": null,
            "max_height": null,
            "max_width": null,
            "min_height": null,
            "min_width": null,
            "object_fit": null,
            "object_position": null,
            "order": null,
            "overflow": null,
            "overflow_x": null,
            "overflow_y": null,
            "padding": null,
            "right": null,
            "top": null,
            "visibility": null,
            "width": null
          }
        },
        "e5a42417e8f146608a15c843ed5dc43f": {
          "model_module": "@jupyter-widgets/controls",
          "model_name": "DescriptionStyleModel",
          "model_module_version": "1.5.0",
          "state": {
            "_model_module": "@jupyter-widgets/controls",
            "_model_module_version": "1.5.0",
            "_model_name": "DescriptionStyleModel",
            "_view_count": null,
            "_view_module": "@jupyter-widgets/base",
            "_view_module_version": "1.2.0",
            "_view_name": "StyleView",
            "description_width": ""
          }
        },
        "bba86a5dbe0e4ba38599c96195c098b6": {
          "model_module": "@jupyter-widgets/base",
          "model_name": "LayoutModel",
          "model_module_version": "1.2.0",
          "state": {
            "_model_module": "@jupyter-widgets/base",
            "_model_module_version": "1.2.0",
            "_model_name": "LayoutModel",
            "_view_count": null,
            "_view_module": "@jupyter-widgets/base",
            "_view_module_version": "1.2.0",
            "_view_name": "LayoutView",
            "align_content": null,
            "align_items": null,
            "align_self": null,
            "border": null,
            "bottom": null,
            "display": null,
            "flex": null,
            "flex_flow": null,
            "grid_area": null,
            "grid_auto_columns": null,
            "grid_auto_flow": null,
            "grid_auto_rows": null,
            "grid_column": null,
            "grid_gap": null,
            "grid_row": null,
            "grid_template_areas": null,
            "grid_template_columns": null,
            "grid_template_rows": null,
            "height": null,
            "justify_content": null,
            "justify_items": null,
            "left": null,
            "margin": null,
            "max_height": null,
            "max_width": null,
            "min_height": null,
            "min_width": null,
            "object_fit": null,
            "object_position": null,
            "order": null,
            "overflow": null,
            "overflow_x": null,
            "overflow_y": null,
            "padding": null,
            "right": null,
            "top": null,
            "visibility": null,
            "width": null
          }
        },
        "9dbf8e0251494e02851e76270b13f47d": {
          "model_module": "@jupyter-widgets/controls",
          "model_name": "ProgressStyleModel",
          "model_module_version": "1.5.0",
          "state": {
            "_model_module": "@jupyter-widgets/controls",
            "_model_module_version": "1.5.0",
            "_model_name": "ProgressStyleModel",
            "_view_count": null,
            "_view_module": "@jupyter-widgets/base",
            "_view_module_version": "1.2.0",
            "_view_name": "StyleView",
            "bar_color": null,
            "description_width": ""
          }
        },
        "d1953154bb164b15b2cdb894b424d1bb": {
          "model_module": "@jupyter-widgets/base",
          "model_name": "LayoutModel",
          "model_module_version": "1.2.0",
          "state": {
            "_model_module": "@jupyter-widgets/base",
            "_model_module_version": "1.2.0",
            "_model_name": "LayoutModel",
            "_view_count": null,
            "_view_module": "@jupyter-widgets/base",
            "_view_module_version": "1.2.0",
            "_view_name": "LayoutView",
            "align_content": null,
            "align_items": null,
            "align_self": null,
            "border": null,
            "bottom": null,
            "display": null,
            "flex": null,
            "flex_flow": null,
            "grid_area": null,
            "grid_auto_columns": null,
            "grid_auto_flow": null,
            "grid_auto_rows": null,
            "grid_column": null,
            "grid_gap": null,
            "grid_row": null,
            "grid_template_areas": null,
            "grid_template_columns": null,
            "grid_template_rows": null,
            "height": null,
            "justify_content": null,
            "justify_items": null,
            "left": null,
            "margin": null,
            "max_height": null,
            "max_width": null,
            "min_height": null,
            "min_width": null,
            "object_fit": null,
            "object_position": null,
            "order": null,
            "overflow": null,
            "overflow_x": null,
            "overflow_y": null,
            "padding": null,
            "right": null,
            "top": null,
            "visibility": null,
            "width": null
          }
        },
        "2dbefdc4a1434e148347c48f0e8a9eb2": {
          "model_module": "@jupyter-widgets/controls",
          "model_name": "DescriptionStyleModel",
          "model_module_version": "1.5.0",
          "state": {
            "_model_module": "@jupyter-widgets/controls",
            "_model_module_version": "1.5.0",
            "_model_name": "DescriptionStyleModel",
            "_view_count": null,
            "_view_module": "@jupyter-widgets/base",
            "_view_module_version": "1.2.0",
            "_view_name": "StyleView",
            "description_width": ""
          }
        },
        "f2b08b671ba84cab8fa504e614d726a0": {
          "model_module": "@jupyter-widgets/controls",
          "model_name": "HBoxModel",
          "model_module_version": "1.5.0",
          "state": {
            "_dom_classes": [],
            "_model_module": "@jupyter-widgets/controls",
            "_model_module_version": "1.5.0",
            "_model_name": "HBoxModel",
            "_view_count": null,
            "_view_module": "@jupyter-widgets/controls",
            "_view_module_version": "1.5.0",
            "_view_name": "HBoxView",
            "box_style": "",
            "children": [
              "IPY_MODEL_a40ec7eb03a04613a2d986251739a8c7",
              "IPY_MODEL_8ed8ba90632a491ca955670660e6b896",
              "IPY_MODEL_8b350eeab34d4dc08c9bf3741e953892"
            ],
            "layout": "IPY_MODEL_6623f7d237994a788864281867f61cb7"
          }
        },
        "a40ec7eb03a04613a2d986251739a8c7": {
          "model_module": "@jupyter-widgets/controls",
          "model_name": "HTMLModel",
          "model_module_version": "1.5.0",
          "state": {
            "_dom_classes": [],
            "_model_module": "@jupyter-widgets/controls",
            "_model_module_version": "1.5.0",
            "_model_name": "HTMLModel",
            "_view_count": null,
            "_view_module": "@jupyter-widgets/controls",
            "_view_module_version": "1.5.0",
            "_view_name": "HTMLView",
            "description": "",
            "description_tooltip": null,
            "layout": "IPY_MODEL_2c18ee5905514a23ae596d2ac4536c19",
            "placeholder": "​",
            "style": "IPY_MODEL_04c7178f71f544ef9d9b4ec359bba1c5",
            "value": "100%"
          }
        },
        "8ed8ba90632a491ca955670660e6b896": {
          "model_module": "@jupyter-widgets/controls",
          "model_name": "FloatProgressModel",
          "model_module_version": "1.5.0",
          "state": {
            "_dom_classes": [],
            "_model_module": "@jupyter-widgets/controls",
            "_model_module_version": "1.5.0",
            "_model_name": "FloatProgressModel",
            "_view_count": null,
            "_view_module": "@jupyter-widgets/controls",
            "_view_module_version": "1.5.0",
            "_view_name": "ProgressView",
            "bar_style": "success",
            "description": "",
            "description_tooltip": null,
            "layout": "IPY_MODEL_d7e9a134eaf742ee9c9f5c94799a9850",
            "max": 1000,
            "min": 0,
            "orientation": "horizontal",
            "style": "IPY_MODEL_c0346e317188426eaba610207b539cc4",
            "value": 1000
          }
        },
        "8b350eeab34d4dc08c9bf3741e953892": {
          "model_module": "@jupyter-widgets/controls",
          "model_name": "HTMLModel",
          "model_module_version": "1.5.0",
          "state": {
            "_dom_classes": [],
            "_model_module": "@jupyter-widgets/controls",
            "_model_module_version": "1.5.0",
            "_model_name": "HTMLModel",
            "_view_count": null,
            "_view_module": "@jupyter-widgets/controls",
            "_view_module_version": "1.5.0",
            "_view_name": "HTMLView",
            "description": "",
            "description_tooltip": null,
            "layout": "IPY_MODEL_b4941083e22e47e58ab31955a6aa0554",
            "placeholder": "​",
            "style": "IPY_MODEL_9f32be9972784c0bb139c0ced0954d36",
            "value": " 1000/1000 [00:02&lt;00:00, 1015.63it/s]"
          }
        },
        "6623f7d237994a788864281867f61cb7": {
          "model_module": "@jupyter-widgets/base",
          "model_name": "LayoutModel",
          "model_module_version": "1.2.0",
          "state": {
            "_model_module": "@jupyter-widgets/base",
            "_model_module_version": "1.2.0",
            "_model_name": "LayoutModel",
            "_view_count": null,
            "_view_module": "@jupyter-widgets/base",
            "_view_module_version": "1.2.0",
            "_view_name": "LayoutView",
            "align_content": null,
            "align_items": null,
            "align_self": null,
            "border": null,
            "bottom": null,
            "display": null,
            "flex": null,
            "flex_flow": null,
            "grid_area": null,
            "grid_auto_columns": null,
            "grid_auto_flow": null,
            "grid_auto_rows": null,
            "grid_column": null,
            "grid_gap": null,
            "grid_row": null,
            "grid_template_areas": null,
            "grid_template_columns": null,
            "grid_template_rows": null,
            "height": null,
            "justify_content": null,
            "justify_items": null,
            "left": null,
            "margin": null,
            "max_height": null,
            "max_width": null,
            "min_height": null,
            "min_width": null,
            "object_fit": null,
            "object_position": null,
            "order": null,
            "overflow": null,
            "overflow_x": null,
            "overflow_y": null,
            "padding": null,
            "right": null,
            "top": null,
            "visibility": null,
            "width": null
          }
        },
        "2c18ee5905514a23ae596d2ac4536c19": {
          "model_module": "@jupyter-widgets/base",
          "model_name": "LayoutModel",
          "model_module_version": "1.2.0",
          "state": {
            "_model_module": "@jupyter-widgets/base",
            "_model_module_version": "1.2.0",
            "_model_name": "LayoutModel",
            "_view_count": null,
            "_view_module": "@jupyter-widgets/base",
            "_view_module_version": "1.2.0",
            "_view_name": "LayoutView",
            "align_content": null,
            "align_items": null,
            "align_self": null,
            "border": null,
            "bottom": null,
            "display": null,
            "flex": null,
            "flex_flow": null,
            "grid_area": null,
            "grid_auto_columns": null,
            "grid_auto_flow": null,
            "grid_auto_rows": null,
            "grid_column": null,
            "grid_gap": null,
            "grid_row": null,
            "grid_template_areas": null,
            "grid_template_columns": null,
            "grid_template_rows": null,
            "height": null,
            "justify_content": null,
            "justify_items": null,
            "left": null,
            "margin": null,
            "max_height": null,
            "max_width": null,
            "min_height": null,
            "min_width": null,
            "object_fit": null,
            "object_position": null,
            "order": null,
            "overflow": null,
            "overflow_x": null,
            "overflow_y": null,
            "padding": null,
            "right": null,
            "top": null,
            "visibility": null,
            "width": null
          }
        },
        "04c7178f71f544ef9d9b4ec359bba1c5": {
          "model_module": "@jupyter-widgets/controls",
          "model_name": "DescriptionStyleModel",
          "model_module_version": "1.5.0",
          "state": {
            "_model_module": "@jupyter-widgets/controls",
            "_model_module_version": "1.5.0",
            "_model_name": "DescriptionStyleModel",
            "_view_count": null,
            "_view_module": "@jupyter-widgets/base",
            "_view_module_version": "1.2.0",
            "_view_name": "StyleView",
            "description_width": ""
          }
        },
        "d7e9a134eaf742ee9c9f5c94799a9850": {
          "model_module": "@jupyter-widgets/base",
          "model_name": "LayoutModel",
          "model_module_version": "1.2.0",
          "state": {
            "_model_module": "@jupyter-widgets/base",
            "_model_module_version": "1.2.0",
            "_model_name": "LayoutModel",
            "_view_count": null,
            "_view_module": "@jupyter-widgets/base",
            "_view_module_version": "1.2.0",
            "_view_name": "LayoutView",
            "align_content": null,
            "align_items": null,
            "align_self": null,
            "border": null,
            "bottom": null,
            "display": null,
            "flex": null,
            "flex_flow": null,
            "grid_area": null,
            "grid_auto_columns": null,
            "grid_auto_flow": null,
            "grid_auto_rows": null,
            "grid_column": null,
            "grid_gap": null,
            "grid_row": null,
            "grid_template_areas": null,
            "grid_template_columns": null,
            "grid_template_rows": null,
            "height": null,
            "justify_content": null,
            "justify_items": null,
            "left": null,
            "margin": null,
            "max_height": null,
            "max_width": null,
            "min_height": null,
            "min_width": null,
            "object_fit": null,
            "object_position": null,
            "order": null,
            "overflow": null,
            "overflow_x": null,
            "overflow_y": null,
            "padding": null,
            "right": null,
            "top": null,
            "visibility": null,
            "width": null
          }
        },
        "c0346e317188426eaba610207b539cc4": {
          "model_module": "@jupyter-widgets/controls",
          "model_name": "ProgressStyleModel",
          "model_module_version": "1.5.0",
          "state": {
            "_model_module": "@jupyter-widgets/controls",
            "_model_module_version": "1.5.0",
            "_model_name": "ProgressStyleModel",
            "_view_count": null,
            "_view_module": "@jupyter-widgets/base",
            "_view_module_version": "1.2.0",
            "_view_name": "StyleView",
            "bar_color": null,
            "description_width": ""
          }
        },
        "b4941083e22e47e58ab31955a6aa0554": {
          "model_module": "@jupyter-widgets/base",
          "model_name": "LayoutModel",
          "model_module_version": "1.2.0",
          "state": {
            "_model_module": "@jupyter-widgets/base",
            "_model_module_version": "1.2.0",
            "_model_name": "LayoutModel",
            "_view_count": null,
            "_view_module": "@jupyter-widgets/base",
            "_view_module_version": "1.2.0",
            "_view_name": "LayoutView",
            "align_content": null,
            "align_items": null,
            "align_self": null,
            "border": null,
            "bottom": null,
            "display": null,
            "flex": null,
            "flex_flow": null,
            "grid_area": null,
            "grid_auto_columns": null,
            "grid_auto_flow": null,
            "grid_auto_rows": null,
            "grid_column": null,
            "grid_gap": null,
            "grid_row": null,
            "grid_template_areas": null,
            "grid_template_columns": null,
            "grid_template_rows": null,
            "height": null,
            "justify_content": null,
            "justify_items": null,
            "left": null,
            "margin": null,
            "max_height": null,
            "max_width": null,
            "min_height": null,
            "min_width": null,
            "object_fit": null,
            "object_position": null,
            "order": null,
            "overflow": null,
            "overflow_x": null,
            "overflow_y": null,
            "padding": null,
            "right": null,
            "top": null,
            "visibility": null,
            "width": null
          }
        },
        "9f32be9972784c0bb139c0ced0954d36": {
          "model_module": "@jupyter-widgets/controls",
          "model_name": "DescriptionStyleModel",
          "model_module_version": "1.5.0",
          "state": {
            "_model_module": "@jupyter-widgets/controls",
            "_model_module_version": "1.5.0",
            "_model_name": "DescriptionStyleModel",
            "_view_count": null,
            "_view_module": "@jupyter-widgets/base",
            "_view_module_version": "1.2.0",
            "_view_name": "StyleView",
            "description_width": ""
          }
        },
        "8ec4d7f892b7402e9f6ea4c763c9c38b": {
          "model_module": "@jupyter-widgets/controls",
          "model_name": "HBoxModel",
          "model_module_version": "1.5.0",
          "state": {
            "_dom_classes": [],
            "_model_module": "@jupyter-widgets/controls",
            "_model_module_version": "1.5.0",
            "_model_name": "HBoxModel",
            "_view_count": null,
            "_view_module": "@jupyter-widgets/controls",
            "_view_module_version": "1.5.0",
            "_view_name": "HBoxView",
            "box_style": "",
            "children": [
              "IPY_MODEL_76abe594d8a341e0a375fe8a70e8fd35",
              "IPY_MODEL_202389f3ad704de18b9c45231c9f468b",
              "IPY_MODEL_985058073cb6425bb7c21a1a797c1dd2"
            ],
            "layout": "IPY_MODEL_f4f46a27c496495185282e164d1884e4"
          }
        },
        "76abe594d8a341e0a375fe8a70e8fd35": {
          "model_module": "@jupyter-widgets/controls",
          "model_name": "HTMLModel",
          "model_module_version": "1.5.0",
          "state": {
            "_dom_classes": [],
            "_model_module": "@jupyter-widgets/controls",
            "_model_module_version": "1.5.0",
            "_model_name": "HTMLModel",
            "_view_count": null,
            "_view_module": "@jupyter-widgets/controls",
            "_view_module_version": "1.5.0",
            "_view_name": "HTMLView",
            "description": "",
            "description_tooltip": null,
            "layout": "IPY_MODEL_69a59c17eec044068cfb4dadf48ea07a",
            "placeholder": "​",
            "style": "IPY_MODEL_e23be13d279a4c568dce343f64d52eda",
            "value": "100%"
          }
        },
        "202389f3ad704de18b9c45231c9f468b": {
          "model_module": "@jupyter-widgets/controls",
          "model_name": "FloatProgressModel",
          "model_module_version": "1.5.0",
          "state": {
            "_dom_classes": [],
            "_model_module": "@jupyter-widgets/controls",
            "_model_module_version": "1.5.0",
            "_model_name": "FloatProgressModel",
            "_view_count": null,
            "_view_module": "@jupyter-widgets/controls",
            "_view_module_version": "1.5.0",
            "_view_name": "ProgressView",
            "bar_style": "success",
            "description": "",
            "description_tooltip": null,
            "layout": "IPY_MODEL_b5809b7524e24f439cec1615878c899f",
            "max": 1000,
            "min": 0,
            "orientation": "horizontal",
            "style": "IPY_MODEL_d4e2b180839f453188f9203f389a0176",
            "value": 1000
          }
        },
        "985058073cb6425bb7c21a1a797c1dd2": {
          "model_module": "@jupyter-widgets/controls",
          "model_name": "HTMLModel",
          "model_module_version": "1.5.0",
          "state": {
            "_dom_classes": [],
            "_model_module": "@jupyter-widgets/controls",
            "_model_module_version": "1.5.0",
            "_model_name": "HTMLModel",
            "_view_count": null,
            "_view_module": "@jupyter-widgets/controls",
            "_view_module_version": "1.5.0",
            "_view_name": "HTMLView",
            "description": "",
            "description_tooltip": null,
            "layout": "IPY_MODEL_7eccdfe009414f2d8bdcb83bf67f4f21",
            "placeholder": "​",
            "style": "IPY_MODEL_103673cda4b24ffeb10017c6cd361aa5",
            "value": " 1000/1000 [00:01&lt;00:00, 1277.53it/s]"
          }
        },
        "f4f46a27c496495185282e164d1884e4": {
          "model_module": "@jupyter-widgets/base",
          "model_name": "LayoutModel",
          "model_module_version": "1.2.0",
          "state": {
            "_model_module": "@jupyter-widgets/base",
            "_model_module_version": "1.2.0",
            "_model_name": "LayoutModel",
            "_view_count": null,
            "_view_module": "@jupyter-widgets/base",
            "_view_module_version": "1.2.0",
            "_view_name": "LayoutView",
            "align_content": null,
            "align_items": null,
            "align_self": null,
            "border": null,
            "bottom": null,
            "display": null,
            "flex": null,
            "flex_flow": null,
            "grid_area": null,
            "grid_auto_columns": null,
            "grid_auto_flow": null,
            "grid_auto_rows": null,
            "grid_column": null,
            "grid_gap": null,
            "grid_row": null,
            "grid_template_areas": null,
            "grid_template_columns": null,
            "grid_template_rows": null,
            "height": null,
            "justify_content": null,
            "justify_items": null,
            "left": null,
            "margin": null,
            "max_height": null,
            "max_width": null,
            "min_height": null,
            "min_width": null,
            "object_fit": null,
            "object_position": null,
            "order": null,
            "overflow": null,
            "overflow_x": null,
            "overflow_y": null,
            "padding": null,
            "right": null,
            "top": null,
            "visibility": null,
            "width": null
          }
        },
        "69a59c17eec044068cfb4dadf48ea07a": {
          "model_module": "@jupyter-widgets/base",
          "model_name": "LayoutModel",
          "model_module_version": "1.2.0",
          "state": {
            "_model_module": "@jupyter-widgets/base",
            "_model_module_version": "1.2.0",
            "_model_name": "LayoutModel",
            "_view_count": null,
            "_view_module": "@jupyter-widgets/base",
            "_view_module_version": "1.2.0",
            "_view_name": "LayoutView",
            "align_content": null,
            "align_items": null,
            "align_self": null,
            "border": null,
            "bottom": null,
            "display": null,
            "flex": null,
            "flex_flow": null,
            "grid_area": null,
            "grid_auto_columns": null,
            "grid_auto_flow": null,
            "grid_auto_rows": null,
            "grid_column": null,
            "grid_gap": null,
            "grid_row": null,
            "grid_template_areas": null,
            "grid_template_columns": null,
            "grid_template_rows": null,
            "height": null,
            "justify_content": null,
            "justify_items": null,
            "left": null,
            "margin": null,
            "max_height": null,
            "max_width": null,
            "min_height": null,
            "min_width": null,
            "object_fit": null,
            "object_position": null,
            "order": null,
            "overflow": null,
            "overflow_x": null,
            "overflow_y": null,
            "padding": null,
            "right": null,
            "top": null,
            "visibility": null,
            "width": null
          }
        },
        "e23be13d279a4c568dce343f64d52eda": {
          "model_module": "@jupyter-widgets/controls",
          "model_name": "DescriptionStyleModel",
          "model_module_version": "1.5.0",
          "state": {
            "_model_module": "@jupyter-widgets/controls",
            "_model_module_version": "1.5.0",
            "_model_name": "DescriptionStyleModel",
            "_view_count": null,
            "_view_module": "@jupyter-widgets/base",
            "_view_module_version": "1.2.0",
            "_view_name": "StyleView",
            "description_width": ""
          }
        },
        "b5809b7524e24f439cec1615878c899f": {
          "model_module": "@jupyter-widgets/base",
          "model_name": "LayoutModel",
          "model_module_version": "1.2.0",
          "state": {
            "_model_module": "@jupyter-widgets/base",
            "_model_module_version": "1.2.0",
            "_model_name": "LayoutModel",
            "_view_count": null,
            "_view_module": "@jupyter-widgets/base",
            "_view_module_version": "1.2.0",
            "_view_name": "LayoutView",
            "align_content": null,
            "align_items": null,
            "align_self": null,
            "border": null,
            "bottom": null,
            "display": null,
            "flex": null,
            "flex_flow": null,
            "grid_area": null,
            "grid_auto_columns": null,
            "grid_auto_flow": null,
            "grid_auto_rows": null,
            "grid_column": null,
            "grid_gap": null,
            "grid_row": null,
            "grid_template_areas": null,
            "grid_template_columns": null,
            "grid_template_rows": null,
            "height": null,
            "justify_content": null,
            "justify_items": null,
            "left": null,
            "margin": null,
            "max_height": null,
            "max_width": null,
            "min_height": null,
            "min_width": null,
            "object_fit": null,
            "object_position": null,
            "order": null,
            "overflow": null,
            "overflow_x": null,
            "overflow_y": null,
            "padding": null,
            "right": null,
            "top": null,
            "visibility": null,
            "width": null
          }
        },
        "d4e2b180839f453188f9203f389a0176": {
          "model_module": "@jupyter-widgets/controls",
          "model_name": "ProgressStyleModel",
          "model_module_version": "1.5.0",
          "state": {
            "_model_module": "@jupyter-widgets/controls",
            "_model_module_version": "1.5.0",
            "_model_name": "ProgressStyleModel",
            "_view_count": null,
            "_view_module": "@jupyter-widgets/base",
            "_view_module_version": "1.2.0",
            "_view_name": "StyleView",
            "bar_color": null,
            "description_width": ""
          }
        },
        "7eccdfe009414f2d8bdcb83bf67f4f21": {
          "model_module": "@jupyter-widgets/base",
          "model_name": "LayoutModel",
          "model_module_version": "1.2.0",
          "state": {
            "_model_module": "@jupyter-widgets/base",
            "_model_module_version": "1.2.0",
            "_model_name": "LayoutModel",
            "_view_count": null,
            "_view_module": "@jupyter-widgets/base",
            "_view_module_version": "1.2.0",
            "_view_name": "LayoutView",
            "align_content": null,
            "align_items": null,
            "align_self": null,
            "border": null,
            "bottom": null,
            "display": null,
            "flex": null,
            "flex_flow": null,
            "grid_area": null,
            "grid_auto_columns": null,
            "grid_auto_flow": null,
            "grid_auto_rows": null,
            "grid_column": null,
            "grid_gap": null,
            "grid_row": null,
            "grid_template_areas": null,
            "grid_template_columns": null,
            "grid_template_rows": null,
            "height": null,
            "justify_content": null,
            "justify_items": null,
            "left": null,
            "margin": null,
            "max_height": null,
            "max_width": null,
            "min_height": null,
            "min_width": null,
            "object_fit": null,
            "object_position": null,
            "order": null,
            "overflow": null,
            "overflow_x": null,
            "overflow_y": null,
            "padding": null,
            "right": null,
            "top": null,
            "visibility": null,
            "width": null
          }
        },
        "103673cda4b24ffeb10017c6cd361aa5": {
          "model_module": "@jupyter-widgets/controls",
          "model_name": "DescriptionStyleModel",
          "model_module_version": "1.5.0",
          "state": {
            "_model_module": "@jupyter-widgets/controls",
            "_model_module_version": "1.5.0",
            "_model_name": "DescriptionStyleModel",
            "_view_count": null,
            "_view_module": "@jupyter-widgets/base",
            "_view_module_version": "1.2.0",
            "_view_name": "StyleView",
            "description_width": ""
          }
        },
        "6ddc336b8f58489ea3d65bf3682768b1": {
          "model_module": "@jupyter-widgets/controls",
          "model_name": "HBoxModel",
          "model_module_version": "1.5.0",
          "state": {
            "_dom_classes": [],
            "_model_module": "@jupyter-widgets/controls",
            "_model_module_version": "1.5.0",
            "_model_name": "HBoxModel",
            "_view_count": null,
            "_view_module": "@jupyter-widgets/controls",
            "_view_module_version": "1.5.0",
            "_view_name": "HBoxView",
            "box_style": "",
            "children": [
              "IPY_MODEL_516b7f01b34a47158844b40758085fe2",
              "IPY_MODEL_59e2446f6bc34ae3ac874d641efd7814",
              "IPY_MODEL_8537f87d1d874e389cba85a80cb9dce3"
            ],
            "layout": "IPY_MODEL_9aab3ea558d04ddaa220baa499a05f6f"
          }
        },
        "516b7f01b34a47158844b40758085fe2": {
          "model_module": "@jupyter-widgets/controls",
          "model_name": "HTMLModel",
          "model_module_version": "1.5.0",
          "state": {
            "_dom_classes": [],
            "_model_module": "@jupyter-widgets/controls",
            "_model_module_version": "1.5.0",
            "_model_name": "HTMLModel",
            "_view_count": null,
            "_view_module": "@jupyter-widgets/controls",
            "_view_module_version": "1.5.0",
            "_view_name": "HTMLView",
            "description": "",
            "description_tooltip": null,
            "layout": "IPY_MODEL_8317972d84a240fe90a817418bb381d1",
            "placeholder": "​",
            "style": "IPY_MODEL_c770c7a01866433aacfa69e37fc223d2",
            "value": "100%"
          }
        },
        "59e2446f6bc34ae3ac874d641efd7814": {
          "model_module": "@jupyter-widgets/controls",
          "model_name": "FloatProgressModel",
          "model_module_version": "1.5.0",
          "state": {
            "_dom_classes": [],
            "_model_module": "@jupyter-widgets/controls",
            "_model_module_version": "1.5.0",
            "_model_name": "FloatProgressModel",
            "_view_count": null,
            "_view_module": "@jupyter-widgets/controls",
            "_view_module_version": "1.5.0",
            "_view_name": "ProgressView",
            "bar_style": "success",
            "description": "",
            "description_tooltip": null,
            "layout": "IPY_MODEL_045dd5f8e1144cdaa4dbfc1cd2dc6550",
            "max": 1500,
            "min": 0,
            "orientation": "horizontal",
            "style": "IPY_MODEL_55032eb11d3f4c25b00956587829c19b",
            "value": 1500
          }
        },
        "8537f87d1d874e389cba85a80cb9dce3": {
          "model_module": "@jupyter-widgets/controls",
          "model_name": "HTMLModel",
          "model_module_version": "1.5.0",
          "state": {
            "_dom_classes": [],
            "_model_module": "@jupyter-widgets/controls",
            "_model_module_version": "1.5.0",
            "_model_name": "HTMLModel",
            "_view_count": null,
            "_view_module": "@jupyter-widgets/controls",
            "_view_module_version": "1.5.0",
            "_view_name": "HTMLView",
            "description": "",
            "description_tooltip": null,
            "layout": "IPY_MODEL_7d69fd9e6d0c4fef8f3887398ea13440",
            "placeholder": "​",
            "style": "IPY_MODEL_d931a73c73bc41068dbb2f7686199f66",
            "value": " 1500/1500 [00:02&lt;00:00, 1151.12it/s]"
          }
        },
        "9aab3ea558d04ddaa220baa499a05f6f": {
          "model_module": "@jupyter-widgets/base",
          "model_name": "LayoutModel",
          "model_module_version": "1.2.0",
          "state": {
            "_model_module": "@jupyter-widgets/base",
            "_model_module_version": "1.2.0",
            "_model_name": "LayoutModel",
            "_view_count": null,
            "_view_module": "@jupyter-widgets/base",
            "_view_module_version": "1.2.0",
            "_view_name": "LayoutView",
            "align_content": null,
            "align_items": null,
            "align_self": null,
            "border": null,
            "bottom": null,
            "display": null,
            "flex": null,
            "flex_flow": null,
            "grid_area": null,
            "grid_auto_columns": null,
            "grid_auto_flow": null,
            "grid_auto_rows": null,
            "grid_column": null,
            "grid_gap": null,
            "grid_row": null,
            "grid_template_areas": null,
            "grid_template_columns": null,
            "grid_template_rows": null,
            "height": null,
            "justify_content": null,
            "justify_items": null,
            "left": null,
            "margin": null,
            "max_height": null,
            "max_width": null,
            "min_height": null,
            "min_width": null,
            "object_fit": null,
            "object_position": null,
            "order": null,
            "overflow": null,
            "overflow_x": null,
            "overflow_y": null,
            "padding": null,
            "right": null,
            "top": null,
            "visibility": null,
            "width": null
          }
        },
        "8317972d84a240fe90a817418bb381d1": {
          "model_module": "@jupyter-widgets/base",
          "model_name": "LayoutModel",
          "model_module_version": "1.2.0",
          "state": {
            "_model_module": "@jupyter-widgets/base",
            "_model_module_version": "1.2.0",
            "_model_name": "LayoutModel",
            "_view_count": null,
            "_view_module": "@jupyter-widgets/base",
            "_view_module_version": "1.2.0",
            "_view_name": "LayoutView",
            "align_content": null,
            "align_items": null,
            "align_self": null,
            "border": null,
            "bottom": null,
            "display": null,
            "flex": null,
            "flex_flow": null,
            "grid_area": null,
            "grid_auto_columns": null,
            "grid_auto_flow": null,
            "grid_auto_rows": null,
            "grid_column": null,
            "grid_gap": null,
            "grid_row": null,
            "grid_template_areas": null,
            "grid_template_columns": null,
            "grid_template_rows": null,
            "height": null,
            "justify_content": null,
            "justify_items": null,
            "left": null,
            "margin": null,
            "max_height": null,
            "max_width": null,
            "min_height": null,
            "min_width": null,
            "object_fit": null,
            "object_position": null,
            "order": null,
            "overflow": null,
            "overflow_x": null,
            "overflow_y": null,
            "padding": null,
            "right": null,
            "top": null,
            "visibility": null,
            "width": null
          }
        },
        "c770c7a01866433aacfa69e37fc223d2": {
          "model_module": "@jupyter-widgets/controls",
          "model_name": "DescriptionStyleModel",
          "model_module_version": "1.5.0",
          "state": {
            "_model_module": "@jupyter-widgets/controls",
            "_model_module_version": "1.5.0",
            "_model_name": "DescriptionStyleModel",
            "_view_count": null,
            "_view_module": "@jupyter-widgets/base",
            "_view_module_version": "1.2.0",
            "_view_name": "StyleView",
            "description_width": ""
          }
        },
        "045dd5f8e1144cdaa4dbfc1cd2dc6550": {
          "model_module": "@jupyter-widgets/base",
          "model_name": "LayoutModel",
          "model_module_version": "1.2.0",
          "state": {
            "_model_module": "@jupyter-widgets/base",
            "_model_module_version": "1.2.0",
            "_model_name": "LayoutModel",
            "_view_count": null,
            "_view_module": "@jupyter-widgets/base",
            "_view_module_version": "1.2.0",
            "_view_name": "LayoutView",
            "align_content": null,
            "align_items": null,
            "align_self": null,
            "border": null,
            "bottom": null,
            "display": null,
            "flex": null,
            "flex_flow": null,
            "grid_area": null,
            "grid_auto_columns": null,
            "grid_auto_flow": null,
            "grid_auto_rows": null,
            "grid_column": null,
            "grid_gap": null,
            "grid_row": null,
            "grid_template_areas": null,
            "grid_template_columns": null,
            "grid_template_rows": null,
            "height": null,
            "justify_content": null,
            "justify_items": null,
            "left": null,
            "margin": null,
            "max_height": null,
            "max_width": null,
            "min_height": null,
            "min_width": null,
            "object_fit": null,
            "object_position": null,
            "order": null,
            "overflow": null,
            "overflow_x": null,
            "overflow_y": null,
            "padding": null,
            "right": null,
            "top": null,
            "visibility": null,
            "width": null
          }
        },
        "55032eb11d3f4c25b00956587829c19b": {
          "model_module": "@jupyter-widgets/controls",
          "model_name": "ProgressStyleModel",
          "model_module_version": "1.5.0",
          "state": {
            "_model_module": "@jupyter-widgets/controls",
            "_model_module_version": "1.5.0",
            "_model_name": "ProgressStyleModel",
            "_view_count": null,
            "_view_module": "@jupyter-widgets/base",
            "_view_module_version": "1.2.0",
            "_view_name": "StyleView",
            "bar_color": null,
            "description_width": ""
          }
        },
        "7d69fd9e6d0c4fef8f3887398ea13440": {
          "model_module": "@jupyter-widgets/base",
          "model_name": "LayoutModel",
          "model_module_version": "1.2.0",
          "state": {
            "_model_module": "@jupyter-widgets/base",
            "_model_module_version": "1.2.0",
            "_model_name": "LayoutModel",
            "_view_count": null,
            "_view_module": "@jupyter-widgets/base",
            "_view_module_version": "1.2.0",
            "_view_name": "LayoutView",
            "align_content": null,
            "align_items": null,
            "align_self": null,
            "border": null,
            "bottom": null,
            "display": null,
            "flex": null,
            "flex_flow": null,
            "grid_area": null,
            "grid_auto_columns": null,
            "grid_auto_flow": null,
            "grid_auto_rows": null,
            "grid_column": null,
            "grid_gap": null,
            "grid_row": null,
            "grid_template_areas": null,
            "grid_template_columns": null,
            "grid_template_rows": null,
            "height": null,
            "justify_content": null,
            "justify_items": null,
            "left": null,
            "margin": null,
            "max_height": null,
            "max_width": null,
            "min_height": null,
            "min_width": null,
            "object_fit": null,
            "object_position": null,
            "order": null,
            "overflow": null,
            "overflow_x": null,
            "overflow_y": null,
            "padding": null,
            "right": null,
            "top": null,
            "visibility": null,
            "width": null
          }
        },
        "d931a73c73bc41068dbb2f7686199f66": {
          "model_module": "@jupyter-widgets/controls",
          "model_name": "DescriptionStyleModel",
          "model_module_version": "1.5.0",
          "state": {
            "_model_module": "@jupyter-widgets/controls",
            "_model_module_version": "1.5.0",
            "_model_name": "DescriptionStyleModel",
            "_view_count": null,
            "_view_module": "@jupyter-widgets/base",
            "_view_module_version": "1.2.0",
            "_view_name": "StyleView",
            "description_width": ""
          }
        },
        "c6301257dc9b4ec8ba38352ab92ea504": {
          "model_module": "@jupyter-widgets/controls",
          "model_name": "HBoxModel",
          "model_module_version": "1.5.0",
          "state": {
            "_dom_classes": [],
            "_model_module": "@jupyter-widgets/controls",
            "_model_module_version": "1.5.0",
            "_model_name": "HBoxModel",
            "_view_count": null,
            "_view_module": "@jupyter-widgets/controls",
            "_view_module_version": "1.5.0",
            "_view_name": "HBoxView",
            "box_style": "",
            "children": [
              "IPY_MODEL_c26612be98e24029b98733caebcb5572",
              "IPY_MODEL_9454f9a2d1d146d8b28a5f17d8631a74",
              "IPY_MODEL_a395b18af7084f279d969b30db833851"
            ],
            "layout": "IPY_MODEL_bca96dcdf46a4500a8e5e9c330bc23cf"
          }
        },
        "c26612be98e24029b98733caebcb5572": {
          "model_module": "@jupyter-widgets/controls",
          "model_name": "HTMLModel",
          "model_module_version": "1.5.0",
          "state": {
            "_dom_classes": [],
            "_model_module": "@jupyter-widgets/controls",
            "_model_module_version": "1.5.0",
            "_model_name": "HTMLModel",
            "_view_count": null,
            "_view_module": "@jupyter-widgets/controls",
            "_view_module_version": "1.5.0",
            "_view_name": "HTMLView",
            "description": "",
            "description_tooltip": null,
            "layout": "IPY_MODEL_31eb46cfb3b445e5b0c033c9e8b5f641",
            "placeholder": "​",
            "style": "IPY_MODEL_28a8cb9d75c9490fa902b84541b1f4f4",
            "value": "100%"
          }
        },
        "9454f9a2d1d146d8b28a5f17d8631a74": {
          "model_module": "@jupyter-widgets/controls",
          "model_name": "FloatProgressModel",
          "model_module_version": "1.5.0",
          "state": {
            "_dom_classes": [],
            "_model_module": "@jupyter-widgets/controls",
            "_model_module_version": "1.5.0",
            "_model_name": "FloatProgressModel",
            "_view_count": null,
            "_view_module": "@jupyter-widgets/controls",
            "_view_module_version": "1.5.0",
            "_view_name": "ProgressView",
            "bar_style": "success",
            "description": "",
            "description_tooltip": null,
            "layout": "IPY_MODEL_877785c0c9fd4d458e9a8ef8fbf72318",
            "max": 1500,
            "min": 0,
            "orientation": "horizontal",
            "style": "IPY_MODEL_ab4b8c4be2664f458c3afa034eb45c97",
            "value": 1500
          }
        },
        "a395b18af7084f279d969b30db833851": {
          "model_module": "@jupyter-widgets/controls",
          "model_name": "HTMLModel",
          "model_module_version": "1.5.0",
          "state": {
            "_dom_classes": [],
            "_model_module": "@jupyter-widgets/controls",
            "_model_module_version": "1.5.0",
            "_model_name": "HTMLModel",
            "_view_count": null,
            "_view_module": "@jupyter-widgets/controls",
            "_view_module_version": "1.5.0",
            "_view_name": "HTMLView",
            "description": "",
            "description_tooltip": null,
            "layout": "IPY_MODEL_f0084837cdb941e395e135c76940d6b6",
            "placeholder": "​",
            "style": "IPY_MODEL_102cd1570aee4ca995658fae3470121d",
            "value": " 1500/1500 [00:02&lt;00:00, 1228.65it/s]"
          }
        },
        "bca96dcdf46a4500a8e5e9c330bc23cf": {
          "model_module": "@jupyter-widgets/base",
          "model_name": "LayoutModel",
          "model_module_version": "1.2.0",
          "state": {
            "_model_module": "@jupyter-widgets/base",
            "_model_module_version": "1.2.0",
            "_model_name": "LayoutModel",
            "_view_count": null,
            "_view_module": "@jupyter-widgets/base",
            "_view_module_version": "1.2.0",
            "_view_name": "LayoutView",
            "align_content": null,
            "align_items": null,
            "align_self": null,
            "border": null,
            "bottom": null,
            "display": null,
            "flex": null,
            "flex_flow": null,
            "grid_area": null,
            "grid_auto_columns": null,
            "grid_auto_flow": null,
            "grid_auto_rows": null,
            "grid_column": null,
            "grid_gap": null,
            "grid_row": null,
            "grid_template_areas": null,
            "grid_template_columns": null,
            "grid_template_rows": null,
            "height": null,
            "justify_content": null,
            "justify_items": null,
            "left": null,
            "margin": null,
            "max_height": null,
            "max_width": null,
            "min_height": null,
            "min_width": null,
            "object_fit": null,
            "object_position": null,
            "order": null,
            "overflow": null,
            "overflow_x": null,
            "overflow_y": null,
            "padding": null,
            "right": null,
            "top": null,
            "visibility": null,
            "width": null
          }
        },
        "31eb46cfb3b445e5b0c033c9e8b5f641": {
          "model_module": "@jupyter-widgets/base",
          "model_name": "LayoutModel",
          "model_module_version": "1.2.0",
          "state": {
            "_model_module": "@jupyter-widgets/base",
            "_model_module_version": "1.2.0",
            "_model_name": "LayoutModel",
            "_view_count": null,
            "_view_module": "@jupyter-widgets/base",
            "_view_module_version": "1.2.0",
            "_view_name": "LayoutView",
            "align_content": null,
            "align_items": null,
            "align_self": null,
            "border": null,
            "bottom": null,
            "display": null,
            "flex": null,
            "flex_flow": null,
            "grid_area": null,
            "grid_auto_columns": null,
            "grid_auto_flow": null,
            "grid_auto_rows": null,
            "grid_column": null,
            "grid_gap": null,
            "grid_row": null,
            "grid_template_areas": null,
            "grid_template_columns": null,
            "grid_template_rows": null,
            "height": null,
            "justify_content": null,
            "justify_items": null,
            "left": null,
            "margin": null,
            "max_height": null,
            "max_width": null,
            "min_height": null,
            "min_width": null,
            "object_fit": null,
            "object_position": null,
            "order": null,
            "overflow": null,
            "overflow_x": null,
            "overflow_y": null,
            "padding": null,
            "right": null,
            "top": null,
            "visibility": null,
            "width": null
          }
        },
        "28a8cb9d75c9490fa902b84541b1f4f4": {
          "model_module": "@jupyter-widgets/controls",
          "model_name": "DescriptionStyleModel",
          "model_module_version": "1.5.0",
          "state": {
            "_model_module": "@jupyter-widgets/controls",
            "_model_module_version": "1.5.0",
            "_model_name": "DescriptionStyleModel",
            "_view_count": null,
            "_view_module": "@jupyter-widgets/base",
            "_view_module_version": "1.2.0",
            "_view_name": "StyleView",
            "description_width": ""
          }
        },
        "877785c0c9fd4d458e9a8ef8fbf72318": {
          "model_module": "@jupyter-widgets/base",
          "model_name": "LayoutModel",
          "model_module_version": "1.2.0",
          "state": {
            "_model_module": "@jupyter-widgets/base",
            "_model_module_version": "1.2.0",
            "_model_name": "LayoutModel",
            "_view_count": null,
            "_view_module": "@jupyter-widgets/base",
            "_view_module_version": "1.2.0",
            "_view_name": "LayoutView",
            "align_content": null,
            "align_items": null,
            "align_self": null,
            "border": null,
            "bottom": null,
            "display": null,
            "flex": null,
            "flex_flow": null,
            "grid_area": null,
            "grid_auto_columns": null,
            "grid_auto_flow": null,
            "grid_auto_rows": null,
            "grid_column": null,
            "grid_gap": null,
            "grid_row": null,
            "grid_template_areas": null,
            "grid_template_columns": null,
            "grid_template_rows": null,
            "height": null,
            "justify_content": null,
            "justify_items": null,
            "left": null,
            "margin": null,
            "max_height": null,
            "max_width": null,
            "min_height": null,
            "min_width": null,
            "object_fit": null,
            "object_position": null,
            "order": null,
            "overflow": null,
            "overflow_x": null,
            "overflow_y": null,
            "padding": null,
            "right": null,
            "top": null,
            "visibility": null,
            "width": null
          }
        },
        "ab4b8c4be2664f458c3afa034eb45c97": {
          "model_module": "@jupyter-widgets/controls",
          "model_name": "ProgressStyleModel",
          "model_module_version": "1.5.0",
          "state": {
            "_model_module": "@jupyter-widgets/controls",
            "_model_module_version": "1.5.0",
            "_model_name": "ProgressStyleModel",
            "_view_count": null,
            "_view_module": "@jupyter-widgets/base",
            "_view_module_version": "1.2.0",
            "_view_name": "StyleView",
            "bar_color": null,
            "description_width": ""
          }
        },
        "f0084837cdb941e395e135c76940d6b6": {
          "model_module": "@jupyter-widgets/base",
          "model_name": "LayoutModel",
          "model_module_version": "1.2.0",
          "state": {
            "_model_module": "@jupyter-widgets/base",
            "_model_module_version": "1.2.0",
            "_model_name": "LayoutModel",
            "_view_count": null,
            "_view_module": "@jupyter-widgets/base",
            "_view_module_version": "1.2.0",
            "_view_name": "LayoutView",
            "align_content": null,
            "align_items": null,
            "align_self": null,
            "border": null,
            "bottom": null,
            "display": null,
            "flex": null,
            "flex_flow": null,
            "grid_area": null,
            "grid_auto_columns": null,
            "grid_auto_flow": null,
            "grid_auto_rows": null,
            "grid_column": null,
            "grid_gap": null,
            "grid_row": null,
            "grid_template_areas": null,
            "grid_template_columns": null,
            "grid_template_rows": null,
            "height": null,
            "justify_content": null,
            "justify_items": null,
            "left": null,
            "margin": null,
            "max_height": null,
            "max_width": null,
            "min_height": null,
            "min_width": null,
            "object_fit": null,
            "object_position": null,
            "order": null,
            "overflow": null,
            "overflow_x": null,
            "overflow_y": null,
            "padding": null,
            "right": null,
            "top": null,
            "visibility": null,
            "width": null
          }
        },
        "102cd1570aee4ca995658fae3470121d": {
          "model_module": "@jupyter-widgets/controls",
          "model_name": "DescriptionStyleModel",
          "model_module_version": "1.5.0",
          "state": {
            "_model_module": "@jupyter-widgets/controls",
            "_model_module_version": "1.5.0",
            "_model_name": "DescriptionStyleModel",
            "_view_count": null,
            "_view_module": "@jupyter-widgets/base",
            "_view_module_version": "1.2.0",
            "_view_name": "StyleView",
            "description_width": ""
          }
        },
        "cc98526f36cd4a3c86cbc7f806f2944d": {
          "model_module": "@jupyter-widgets/controls",
          "model_name": "HBoxModel",
          "model_module_version": "1.5.0",
          "state": {
            "_dom_classes": [],
            "_model_module": "@jupyter-widgets/controls",
            "_model_module_version": "1.5.0",
            "_model_name": "HBoxModel",
            "_view_count": null,
            "_view_module": "@jupyter-widgets/controls",
            "_view_module_version": "1.5.0",
            "_view_name": "HBoxView",
            "box_style": "",
            "children": [
              "IPY_MODEL_a9ff027a48f444c7814da8cdaebc7b17",
              "IPY_MODEL_b3f7a53b8a714ee6a5c4abaee80c09f8",
              "IPY_MODEL_a7b53bca594d40b98317b1952d8e3805"
            ],
            "layout": "IPY_MODEL_0b14326506d74b58aeeb29a1900d661a"
          }
        },
        "a9ff027a48f444c7814da8cdaebc7b17": {
          "model_module": "@jupyter-widgets/controls",
          "model_name": "HTMLModel",
          "model_module_version": "1.5.0",
          "state": {
            "_dom_classes": [],
            "_model_module": "@jupyter-widgets/controls",
            "_model_module_version": "1.5.0",
            "_model_name": "HTMLModel",
            "_view_count": null,
            "_view_module": "@jupyter-widgets/controls",
            "_view_module_version": "1.5.0",
            "_view_name": "HTMLView",
            "description": "",
            "description_tooltip": null,
            "layout": "IPY_MODEL_49b8e21014ca421e8fea9db940d5151a",
            "placeholder": "​",
            "style": "IPY_MODEL_73229a46d5f04388939123126a235c29",
            "value": "100%"
          }
        },
        "b3f7a53b8a714ee6a5c4abaee80c09f8": {
          "model_module": "@jupyter-widgets/controls",
          "model_name": "FloatProgressModel",
          "model_module_version": "1.5.0",
          "state": {
            "_dom_classes": [],
            "_model_module": "@jupyter-widgets/controls",
            "_model_module_version": "1.5.0",
            "_model_name": "FloatProgressModel",
            "_view_count": null,
            "_view_module": "@jupyter-widgets/controls",
            "_view_module_version": "1.5.0",
            "_view_name": "ProgressView",
            "bar_style": "success",
            "description": "",
            "description_tooltip": null,
            "layout": "IPY_MODEL_6e7515973dfd48dc875f1b897395cf8f",
            "max": 1500,
            "min": 0,
            "orientation": "horizontal",
            "style": "IPY_MODEL_f55ba06ef5734116a54b0ac142450426",
            "value": 1500
          }
        },
        "a7b53bca594d40b98317b1952d8e3805": {
          "model_module": "@jupyter-widgets/controls",
          "model_name": "HTMLModel",
          "model_module_version": "1.5.0",
          "state": {
            "_dom_classes": [],
            "_model_module": "@jupyter-widgets/controls",
            "_model_module_version": "1.5.0",
            "_model_name": "HTMLModel",
            "_view_count": null,
            "_view_module": "@jupyter-widgets/controls",
            "_view_module_version": "1.5.0",
            "_view_name": "HTMLView",
            "description": "",
            "description_tooltip": null,
            "layout": "IPY_MODEL_08ef9f08361c4144a455a08359228129",
            "placeholder": "​",
            "style": "IPY_MODEL_8f4e2296b1e9470f99cc202c5011e013",
            "value": " 1500/1500 [00:02&lt;00:00, 1417.33it/s]"
          }
        },
        "0b14326506d74b58aeeb29a1900d661a": {
          "model_module": "@jupyter-widgets/base",
          "model_name": "LayoutModel",
          "model_module_version": "1.2.0",
          "state": {
            "_model_module": "@jupyter-widgets/base",
            "_model_module_version": "1.2.0",
            "_model_name": "LayoutModel",
            "_view_count": null,
            "_view_module": "@jupyter-widgets/base",
            "_view_module_version": "1.2.0",
            "_view_name": "LayoutView",
            "align_content": null,
            "align_items": null,
            "align_self": null,
            "border": null,
            "bottom": null,
            "display": null,
            "flex": null,
            "flex_flow": null,
            "grid_area": null,
            "grid_auto_columns": null,
            "grid_auto_flow": null,
            "grid_auto_rows": null,
            "grid_column": null,
            "grid_gap": null,
            "grid_row": null,
            "grid_template_areas": null,
            "grid_template_columns": null,
            "grid_template_rows": null,
            "height": null,
            "justify_content": null,
            "justify_items": null,
            "left": null,
            "margin": null,
            "max_height": null,
            "max_width": null,
            "min_height": null,
            "min_width": null,
            "object_fit": null,
            "object_position": null,
            "order": null,
            "overflow": null,
            "overflow_x": null,
            "overflow_y": null,
            "padding": null,
            "right": null,
            "top": null,
            "visibility": null,
            "width": null
          }
        },
        "49b8e21014ca421e8fea9db940d5151a": {
          "model_module": "@jupyter-widgets/base",
          "model_name": "LayoutModel",
          "model_module_version": "1.2.0",
          "state": {
            "_model_module": "@jupyter-widgets/base",
            "_model_module_version": "1.2.0",
            "_model_name": "LayoutModel",
            "_view_count": null,
            "_view_module": "@jupyter-widgets/base",
            "_view_module_version": "1.2.0",
            "_view_name": "LayoutView",
            "align_content": null,
            "align_items": null,
            "align_self": null,
            "border": null,
            "bottom": null,
            "display": null,
            "flex": null,
            "flex_flow": null,
            "grid_area": null,
            "grid_auto_columns": null,
            "grid_auto_flow": null,
            "grid_auto_rows": null,
            "grid_column": null,
            "grid_gap": null,
            "grid_row": null,
            "grid_template_areas": null,
            "grid_template_columns": null,
            "grid_template_rows": null,
            "height": null,
            "justify_content": null,
            "justify_items": null,
            "left": null,
            "margin": null,
            "max_height": null,
            "max_width": null,
            "min_height": null,
            "min_width": null,
            "object_fit": null,
            "object_position": null,
            "order": null,
            "overflow": null,
            "overflow_x": null,
            "overflow_y": null,
            "padding": null,
            "right": null,
            "top": null,
            "visibility": null,
            "width": null
          }
        },
        "73229a46d5f04388939123126a235c29": {
          "model_module": "@jupyter-widgets/controls",
          "model_name": "DescriptionStyleModel",
          "model_module_version": "1.5.0",
          "state": {
            "_model_module": "@jupyter-widgets/controls",
            "_model_module_version": "1.5.0",
            "_model_name": "DescriptionStyleModel",
            "_view_count": null,
            "_view_module": "@jupyter-widgets/base",
            "_view_module_version": "1.2.0",
            "_view_name": "StyleView",
            "description_width": ""
          }
        },
        "6e7515973dfd48dc875f1b897395cf8f": {
          "model_module": "@jupyter-widgets/base",
          "model_name": "LayoutModel",
          "model_module_version": "1.2.0",
          "state": {
            "_model_module": "@jupyter-widgets/base",
            "_model_module_version": "1.2.0",
            "_model_name": "LayoutModel",
            "_view_count": null,
            "_view_module": "@jupyter-widgets/base",
            "_view_module_version": "1.2.0",
            "_view_name": "LayoutView",
            "align_content": null,
            "align_items": null,
            "align_self": null,
            "border": null,
            "bottom": null,
            "display": null,
            "flex": null,
            "flex_flow": null,
            "grid_area": null,
            "grid_auto_columns": null,
            "grid_auto_flow": null,
            "grid_auto_rows": null,
            "grid_column": null,
            "grid_gap": null,
            "grid_row": null,
            "grid_template_areas": null,
            "grid_template_columns": null,
            "grid_template_rows": null,
            "height": null,
            "justify_content": null,
            "justify_items": null,
            "left": null,
            "margin": null,
            "max_height": null,
            "max_width": null,
            "min_height": null,
            "min_width": null,
            "object_fit": null,
            "object_position": null,
            "order": null,
            "overflow": null,
            "overflow_x": null,
            "overflow_y": null,
            "padding": null,
            "right": null,
            "top": null,
            "visibility": null,
            "width": null
          }
        },
        "f55ba06ef5734116a54b0ac142450426": {
          "model_module": "@jupyter-widgets/controls",
          "model_name": "ProgressStyleModel",
          "model_module_version": "1.5.0",
          "state": {
            "_model_module": "@jupyter-widgets/controls",
            "_model_module_version": "1.5.0",
            "_model_name": "ProgressStyleModel",
            "_view_count": null,
            "_view_module": "@jupyter-widgets/base",
            "_view_module_version": "1.2.0",
            "_view_name": "StyleView",
            "bar_color": null,
            "description_width": ""
          }
        },
        "08ef9f08361c4144a455a08359228129": {
          "model_module": "@jupyter-widgets/base",
          "model_name": "LayoutModel",
          "model_module_version": "1.2.0",
          "state": {
            "_model_module": "@jupyter-widgets/base",
            "_model_module_version": "1.2.0",
            "_model_name": "LayoutModel",
            "_view_count": null,
            "_view_module": "@jupyter-widgets/base",
            "_view_module_version": "1.2.0",
            "_view_name": "LayoutView",
            "align_content": null,
            "align_items": null,
            "align_self": null,
            "border": null,
            "bottom": null,
            "display": null,
            "flex": null,
            "flex_flow": null,
            "grid_area": null,
            "grid_auto_columns": null,
            "grid_auto_flow": null,
            "grid_auto_rows": null,
            "grid_column": null,
            "grid_gap": null,
            "grid_row": null,
            "grid_template_areas": null,
            "grid_template_columns": null,
            "grid_template_rows": null,
            "height": null,
            "justify_content": null,
            "justify_items": null,
            "left": null,
            "margin": null,
            "max_height": null,
            "max_width": null,
            "min_height": null,
            "min_width": null,
            "object_fit": null,
            "object_position": null,
            "order": null,
            "overflow": null,
            "overflow_x": null,
            "overflow_y": null,
            "padding": null,
            "right": null,
            "top": null,
            "visibility": null,
            "width": null
          }
        },
        "8f4e2296b1e9470f99cc202c5011e013": {
          "model_module": "@jupyter-widgets/controls",
          "model_name": "DescriptionStyleModel",
          "model_module_version": "1.5.0",
          "state": {
            "_model_module": "@jupyter-widgets/controls",
            "_model_module_version": "1.5.0",
            "_model_name": "DescriptionStyleModel",
            "_view_count": null,
            "_view_module": "@jupyter-widgets/base",
            "_view_module_version": "1.2.0",
            "_view_name": "StyleView",
            "description_width": ""
          }
        },
        "bcc35a11ac0840458793b5bd16cc579f": {
          "model_module": "@jupyter-widgets/controls",
          "model_name": "HBoxModel",
          "model_module_version": "1.5.0",
          "state": {
            "_dom_classes": [],
            "_model_module": "@jupyter-widgets/controls",
            "_model_module_version": "1.5.0",
            "_model_name": "HBoxModel",
            "_view_count": null,
            "_view_module": "@jupyter-widgets/controls",
            "_view_module_version": "1.5.0",
            "_view_name": "HBoxView",
            "box_style": "",
            "children": [
              "IPY_MODEL_17d3bbc3a09541a3a4e6c0211f3f31bb",
              "IPY_MODEL_64e1f7307ecc4dc48f544a6f5f9f491c",
              "IPY_MODEL_472d152783754fb481fc02d0ff486fd8"
            ],
            "layout": "IPY_MODEL_48706fb4a8234647b7df80b6ef080fb3"
          }
        },
        "17d3bbc3a09541a3a4e6c0211f3f31bb": {
          "model_module": "@jupyter-widgets/controls",
          "model_name": "HTMLModel",
          "model_module_version": "1.5.0",
          "state": {
            "_dom_classes": [],
            "_model_module": "@jupyter-widgets/controls",
            "_model_module_version": "1.5.0",
            "_model_name": "HTMLModel",
            "_view_count": null,
            "_view_module": "@jupyter-widgets/controls",
            "_view_module_version": "1.5.0",
            "_view_name": "HTMLView",
            "description": "",
            "description_tooltip": null,
            "layout": "IPY_MODEL_abb357efdacc46f0a2e59c4337ef0eab",
            "placeholder": "​",
            "style": "IPY_MODEL_9e1a35904e894b79999099ade47b2786",
            "value": "100%"
          }
        },
        "64e1f7307ecc4dc48f544a6f5f9f491c": {
          "model_module": "@jupyter-widgets/controls",
          "model_name": "FloatProgressModel",
          "model_module_version": "1.5.0",
          "state": {
            "_dom_classes": [],
            "_model_module": "@jupyter-widgets/controls",
            "_model_module_version": "1.5.0",
            "_model_name": "FloatProgressModel",
            "_view_count": null,
            "_view_module": "@jupyter-widgets/controls",
            "_view_module_version": "1.5.0",
            "_view_name": "ProgressView",
            "bar_style": "success",
            "description": "",
            "description_tooltip": null,
            "layout": "IPY_MODEL_f22c42cf35d8416aad82ed4c010af18a",
            "max": 1500,
            "min": 0,
            "orientation": "horizontal",
            "style": "IPY_MODEL_9570b33a2e1b4f728f23fd204cce3794",
            "value": 1500
          }
        },
        "472d152783754fb481fc02d0ff486fd8": {
          "model_module": "@jupyter-widgets/controls",
          "model_name": "HTMLModel",
          "model_module_version": "1.5.0",
          "state": {
            "_dom_classes": [],
            "_model_module": "@jupyter-widgets/controls",
            "_model_module_version": "1.5.0",
            "_model_name": "HTMLModel",
            "_view_count": null,
            "_view_module": "@jupyter-widgets/controls",
            "_view_module_version": "1.5.0",
            "_view_name": "HTMLView",
            "description": "",
            "description_tooltip": null,
            "layout": "IPY_MODEL_f12e3e2571794ad1b152685e2e9c07d7",
            "placeholder": "​",
            "style": "IPY_MODEL_673ec777e2624c4cbcbba5e0c4b38fd2",
            "value": " 1500/1500 [00:02&lt;00:00, 1319.91it/s]"
          }
        },
        "48706fb4a8234647b7df80b6ef080fb3": {
          "model_module": "@jupyter-widgets/base",
          "model_name": "LayoutModel",
          "model_module_version": "1.2.0",
          "state": {
            "_model_module": "@jupyter-widgets/base",
            "_model_module_version": "1.2.0",
            "_model_name": "LayoutModel",
            "_view_count": null,
            "_view_module": "@jupyter-widgets/base",
            "_view_module_version": "1.2.0",
            "_view_name": "LayoutView",
            "align_content": null,
            "align_items": null,
            "align_self": null,
            "border": null,
            "bottom": null,
            "display": null,
            "flex": null,
            "flex_flow": null,
            "grid_area": null,
            "grid_auto_columns": null,
            "grid_auto_flow": null,
            "grid_auto_rows": null,
            "grid_column": null,
            "grid_gap": null,
            "grid_row": null,
            "grid_template_areas": null,
            "grid_template_columns": null,
            "grid_template_rows": null,
            "height": null,
            "justify_content": null,
            "justify_items": null,
            "left": null,
            "margin": null,
            "max_height": null,
            "max_width": null,
            "min_height": null,
            "min_width": null,
            "object_fit": null,
            "object_position": null,
            "order": null,
            "overflow": null,
            "overflow_x": null,
            "overflow_y": null,
            "padding": null,
            "right": null,
            "top": null,
            "visibility": null,
            "width": null
          }
        },
        "abb357efdacc46f0a2e59c4337ef0eab": {
          "model_module": "@jupyter-widgets/base",
          "model_name": "LayoutModel",
          "model_module_version": "1.2.0",
          "state": {
            "_model_module": "@jupyter-widgets/base",
            "_model_module_version": "1.2.0",
            "_model_name": "LayoutModel",
            "_view_count": null,
            "_view_module": "@jupyter-widgets/base",
            "_view_module_version": "1.2.0",
            "_view_name": "LayoutView",
            "align_content": null,
            "align_items": null,
            "align_self": null,
            "border": null,
            "bottom": null,
            "display": null,
            "flex": null,
            "flex_flow": null,
            "grid_area": null,
            "grid_auto_columns": null,
            "grid_auto_flow": null,
            "grid_auto_rows": null,
            "grid_column": null,
            "grid_gap": null,
            "grid_row": null,
            "grid_template_areas": null,
            "grid_template_columns": null,
            "grid_template_rows": null,
            "height": null,
            "justify_content": null,
            "justify_items": null,
            "left": null,
            "margin": null,
            "max_height": null,
            "max_width": null,
            "min_height": null,
            "min_width": null,
            "object_fit": null,
            "object_position": null,
            "order": null,
            "overflow": null,
            "overflow_x": null,
            "overflow_y": null,
            "padding": null,
            "right": null,
            "top": null,
            "visibility": null,
            "width": null
          }
        },
        "9e1a35904e894b79999099ade47b2786": {
          "model_module": "@jupyter-widgets/controls",
          "model_name": "DescriptionStyleModel",
          "model_module_version": "1.5.0",
          "state": {
            "_model_module": "@jupyter-widgets/controls",
            "_model_module_version": "1.5.0",
            "_model_name": "DescriptionStyleModel",
            "_view_count": null,
            "_view_module": "@jupyter-widgets/base",
            "_view_module_version": "1.2.0",
            "_view_name": "StyleView",
            "description_width": ""
          }
        },
        "f22c42cf35d8416aad82ed4c010af18a": {
          "model_module": "@jupyter-widgets/base",
          "model_name": "LayoutModel",
          "model_module_version": "1.2.0",
          "state": {
            "_model_module": "@jupyter-widgets/base",
            "_model_module_version": "1.2.0",
            "_model_name": "LayoutModel",
            "_view_count": null,
            "_view_module": "@jupyter-widgets/base",
            "_view_module_version": "1.2.0",
            "_view_name": "LayoutView",
            "align_content": null,
            "align_items": null,
            "align_self": null,
            "border": null,
            "bottom": null,
            "display": null,
            "flex": null,
            "flex_flow": null,
            "grid_area": null,
            "grid_auto_columns": null,
            "grid_auto_flow": null,
            "grid_auto_rows": null,
            "grid_column": null,
            "grid_gap": null,
            "grid_row": null,
            "grid_template_areas": null,
            "grid_template_columns": null,
            "grid_template_rows": null,
            "height": null,
            "justify_content": null,
            "justify_items": null,
            "left": null,
            "margin": null,
            "max_height": null,
            "max_width": null,
            "min_height": null,
            "min_width": null,
            "object_fit": null,
            "object_position": null,
            "order": null,
            "overflow": null,
            "overflow_x": null,
            "overflow_y": null,
            "padding": null,
            "right": null,
            "top": null,
            "visibility": null,
            "width": null
          }
        },
        "9570b33a2e1b4f728f23fd204cce3794": {
          "model_module": "@jupyter-widgets/controls",
          "model_name": "ProgressStyleModel",
          "model_module_version": "1.5.0",
          "state": {
            "_model_module": "@jupyter-widgets/controls",
            "_model_module_version": "1.5.0",
            "_model_name": "ProgressStyleModel",
            "_view_count": null,
            "_view_module": "@jupyter-widgets/base",
            "_view_module_version": "1.2.0",
            "_view_name": "StyleView",
            "bar_color": null,
            "description_width": ""
          }
        },
        "f12e3e2571794ad1b152685e2e9c07d7": {
          "model_module": "@jupyter-widgets/base",
          "model_name": "LayoutModel",
          "model_module_version": "1.2.0",
          "state": {
            "_model_module": "@jupyter-widgets/base",
            "_model_module_version": "1.2.0",
            "_model_name": "LayoutModel",
            "_view_count": null,
            "_view_module": "@jupyter-widgets/base",
            "_view_module_version": "1.2.0",
            "_view_name": "LayoutView",
            "align_content": null,
            "align_items": null,
            "align_self": null,
            "border": null,
            "bottom": null,
            "display": null,
            "flex": null,
            "flex_flow": null,
            "grid_area": null,
            "grid_auto_columns": null,
            "grid_auto_flow": null,
            "grid_auto_rows": null,
            "grid_column": null,
            "grid_gap": null,
            "grid_row": null,
            "grid_template_areas": null,
            "grid_template_columns": null,
            "grid_template_rows": null,
            "height": null,
            "justify_content": null,
            "justify_items": null,
            "left": null,
            "margin": null,
            "max_height": null,
            "max_width": null,
            "min_height": null,
            "min_width": null,
            "object_fit": null,
            "object_position": null,
            "order": null,
            "overflow": null,
            "overflow_x": null,
            "overflow_y": null,
            "padding": null,
            "right": null,
            "top": null,
            "visibility": null,
            "width": null
          }
        },
        "673ec777e2624c4cbcbba5e0c4b38fd2": {
          "model_module": "@jupyter-widgets/controls",
          "model_name": "DescriptionStyleModel",
          "model_module_version": "1.5.0",
          "state": {
            "_model_module": "@jupyter-widgets/controls",
            "_model_module_version": "1.5.0",
            "_model_name": "DescriptionStyleModel",
            "_view_count": null,
            "_view_module": "@jupyter-widgets/base",
            "_view_module_version": "1.2.0",
            "_view_name": "StyleView",
            "description_width": ""
          }
        }
      }
    }
  },
  "nbformat": 4,
  "nbformat_minor": 0
}